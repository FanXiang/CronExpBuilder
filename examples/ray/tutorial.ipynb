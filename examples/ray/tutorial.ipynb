{
  "cells": [
    {
      "cell_type": "markdown",
      "id": "0ddc582b",
      "metadata": {
        "id": "0ddc582b"
      },
      "source": [
        "# VeRL Ray API Tutorial"
      ]
    },
    {
      "cell_type": "markdown",
      "id": "71fe3b94",
      "metadata": {
        "id": "71fe3b94"
      },
      "source": [
        "## Chapter 1: Ray Basics"
      ]
    },
    {
      "cell_type": "code",
      "source": [
        "!pip install ray -Uq"
      ],
      "metadata": {
        "colab": {
          "base_uri": "https://localhost:8080/"
        },
        "id": "X-Zzy8M64o8P",
        "outputId": "1d404228-ea81-441f-b603-fff9d0ef2fdd"
      },
      "id": "X-Zzy8M64o8P",
      "execution_count": 1,
      "outputs": [
        {
          "output_type": "stream",
          "name": "stdout",
          "text": [
            "\u001b[2K   \u001b[90m━━━━━━━━━━━━━━━━━━━━━━━━━━━━━━━━━━━━━━━━\u001b[0m \u001b[32m70.1/70.1 MB\u001b[0m \u001b[31m12.3 MB/s\u001b[0m eta \u001b[36m0:00:00\u001b[0m\n",
            "\u001b[?25h"
          ]
        }
      ]
    },
    {
      "cell_type": "code",
      "execution_count": 1,
      "id": "1347d381",
      "metadata": {
        "tags": [],
        "id": "1347d381"
      },
      "outputs": [],
      "source": [
        "import os"
      ]
    },
    {
      "cell_type": "code",
      "execution_count": 2,
      "id": "e75b9d44",
      "metadata": {
        "tags": [],
        "id": "e75b9d44"
      },
      "outputs": [],
      "source": [
        "import warnings\n",
        "\n",
        "import ray\n",
        "import torch\n",
        "\n",
        "warnings.filterwarnings(\"ignore\")"
      ]
    },
    {
      "cell_type": "code",
      "execution_count": 18,
      "id": "2e90ae00",
      "metadata": {
        "tags": [],
        "colab": {
          "base_uri": "https://localhost:8080/",
          "height": 77
        },
        "id": "2e90ae00",
        "outputId": "a64213bc-99f2-456b-bc10-ca3dd7c6eea5"
      },
      "outputs": [
        {
          "output_type": "stream",
          "name": "stderr",
          "text": [
            "2025-09-10 15:07:34,492\tINFO worker.py:1951 -- Started a local Ray instance.\n"
          ]
        },
        {
          "output_type": "execute_result",
          "data": {
            "text/plain": [
              "RayContext(dashboard_url='', python_version='3.12.11', ray_version='2.49.1', ray_commit='c057f1ea836f3e93f110e895029caa32136fc156')"
            ],
            "text/html": [
              "<div class=\"lm-Widget p-Widget lm-Panel p-Panel jp-Cell-outputWrapper\">\n",
              "    <div style=\"margin-left: 50px;display: flex;flex-direction: row;align-items: center\">\n",
              "        <div class=\"jp-RenderedHTMLCommon\" style=\"display: flex; flex-direction: row;\">\n",
              "  <svg viewBox=\"0 0 567 224\" fill=\"none\" xmlns=\"http://www.w3.org/2000/svg\" style=\"height: 3em;\">\n",
              "    <g clip-path=\"url(#clip0_4338_178347)\">\n",
              "        <path d=\"M341.29 165.561H355.29L330.13 129.051C345.63 123.991 354.21 112.051 354.21 94.2307C354.21 71.3707 338.72 58.1807 311.88 58.1807H271V165.561H283.27V131.661H311.8C314.25 131.661 316.71 131.501 319.01 131.351L341.25 165.561H341.29ZM283.29 119.851V70.0007H311.82C331.3 70.0007 342.34 78.2907 342.34 94.5507C342.34 111.271 331.34 119.861 311.82 119.861L283.29 119.851ZM451.4 138.411L463.4 165.561H476.74L428.74 58.1807H416L367.83 165.561H380.83L392.83 138.411H451.4ZM446.19 126.601H398L422 72.1407L446.24 126.601H446.19ZM526.11 128.741L566.91 58.1807H554.35L519.99 114.181L485.17 58.1807H472.44L514.01 129.181V165.541H526.13V128.741H526.11Z\" fill=\"var(--jp-ui-font-color0)\"/>\n",
              "        <path d=\"M82.35 104.44C84.0187 97.8827 87.8248 92.0678 93.1671 87.9146C98.5094 83.7614 105.083 81.5067 111.85 81.5067C118.617 81.5067 125.191 83.7614 130.533 87.9146C135.875 92.0678 139.681 97.8827 141.35 104.44H163.75C164.476 101.562 165.622 98.8057 167.15 96.2605L127.45 56.5605C121.071 60.3522 113.526 61.6823 106.235 60.3005C98.9443 58.9187 92.4094 54.9203 87.8602 49.0574C83.3109 43.1946 81.0609 35.8714 81.5332 28.4656C82.0056 21.0599 85.1679 14.0819 90.4252 8.8446C95.6824 3.60726 102.672 0.471508 110.08 0.0272655C117.487 -0.416977 124.802 1.86091 130.647 6.4324C136.493 11.0039 140.467 17.5539 141.821 24.8501C143.175 32.1463 141.816 39.6859 138 46.0505L177.69 85.7505C182.31 82.9877 187.58 81.4995 192.962 81.4375C198.345 81.3755 203.648 82.742 208.33 85.3976C213.012 88.0532 216.907 91.9029 219.616 96.5544C222.326 101.206 223.753 106.492 223.753 111.875C223.753 117.258 222.326 122.545 219.616 127.197C216.907 131.848 213.012 135.698 208.33 138.353C203.648 141.009 198.345 142.375 192.962 142.313C187.58 142.251 182.31 140.763 177.69 138L138 177.7C141.808 184.071 143.155 191.614 141.79 198.91C140.424 206.205 136.44 212.75 130.585 217.313C124.731 221.875 117.412 224.141 110.004 223.683C102.596 223.226 95.6103 220.077 90.3621 214.828C85.1139 209.58 81.9647 202.595 81.5072 195.187C81.0497 187.779 83.3154 180.459 87.878 174.605C92.4405 168.751 98.9853 164.766 106.281 163.401C113.576 162.035 121.119 163.383 127.49 167.19L167.19 127.49C165.664 124.941 164.518 122.182 163.79 119.3H141.39C139.721 125.858 135.915 131.673 130.573 135.826C125.231 139.98 118.657 142.234 111.89 142.234C105.123 142.234 98.5494 139.98 93.2071 135.826C87.8648 131.673 84.0587 125.858 82.39 119.3H60C58.1878 126.495 53.8086 132.78 47.6863 136.971C41.5641 141.163 34.1211 142.972 26.7579 142.059C19.3947 141.146 12.6191 137.574 7.70605 132.014C2.79302 126.454 0.0813599 119.29 0.0813599 111.87C0.0813599 104.451 2.79302 97.2871 7.70605 91.7272C12.6191 86.1673 19.3947 82.5947 26.7579 81.6817C34.1211 80.7686 41.5641 82.5781 47.6863 86.7696C53.8086 90.9611 58.1878 97.2456 60 104.44H82.35ZM100.86 204.32C103.407 206.868 106.759 208.453 110.345 208.806C113.93 209.159 117.527 208.258 120.522 206.256C123.517 204.254 125.725 201.276 126.771 197.828C127.816 194.38 127.633 190.677 126.253 187.349C124.874 184.021 122.383 181.274 119.205 179.577C116.027 177.88 112.359 177.337 108.826 178.042C105.293 178.746 102.113 180.654 99.8291 183.44C97.5451 186.226 96.2979 189.718 96.3 193.32C96.2985 195.364 96.7006 197.388 97.4831 199.275C98.2656 201.163 99.4132 202.877 100.86 204.32ZM204.32 122.88C206.868 120.333 208.453 116.981 208.806 113.396C209.159 109.811 208.258 106.214 206.256 103.219C204.254 100.223 201.275 98.0151 197.827 96.97C194.38 95.9249 190.676 96.1077 187.348 97.4873C184.02 98.8669 181.274 101.358 179.577 104.536C177.879 107.714 177.337 111.382 178.041 114.915C178.746 118.448 180.653 121.627 183.439 123.911C186.226 126.195 189.717 127.443 193.32 127.44C195.364 127.443 197.388 127.042 199.275 126.259C201.163 125.476 202.878 124.328 204.32 122.88ZM122.88 19.4205C120.333 16.8729 116.981 15.2876 113.395 14.9347C109.81 14.5817 106.213 15.483 103.218 17.4849C100.223 19.4868 98.0146 22.4654 96.9696 25.9131C95.9245 29.3608 96.1073 33.0642 97.4869 36.3922C98.8665 39.7202 101.358 42.4668 104.535 44.1639C107.713 45.861 111.381 46.4036 114.914 45.6992C118.447 44.9949 121.627 43.0871 123.911 40.301C126.195 37.515 127.442 34.0231 127.44 30.4205C127.44 28.3772 127.038 26.3539 126.255 24.4664C125.473 22.5788 124.326 20.8642 122.88 19.4205ZM19.42 100.86C16.8725 103.408 15.2872 106.76 14.9342 110.345C14.5813 113.93 15.4826 117.527 17.4844 120.522C19.4863 123.518 22.4649 125.726 25.9127 126.771C29.3604 127.816 33.0638 127.633 36.3918 126.254C39.7198 124.874 42.4664 122.383 44.1635 119.205C45.8606 116.027 46.4032 112.359 45.6988 108.826C44.9944 105.293 43.0866 102.114 40.3006 99.8296C37.5145 97.5455 34.0227 96.2983 30.42 96.3005C26.2938 96.3018 22.337 97.9421 19.42 100.86ZM100.86 100.86C98.3125 103.408 96.7272 106.76 96.3742 110.345C96.0213 113.93 96.9226 117.527 98.9244 120.522C100.926 123.518 103.905 125.726 107.353 126.771C110.8 127.816 114.504 127.633 117.832 126.254C121.16 124.874 123.906 122.383 125.604 119.205C127.301 116.027 127.843 112.359 127.139 108.826C126.434 105.293 124.527 102.114 121.741 99.8296C118.955 97.5455 115.463 96.2983 111.86 96.3005C109.817 96.299 107.793 96.701 105.905 97.4835C104.018 98.2661 102.303 99.4136 100.86 100.86Z\" fill=\"#00AEEF\"/>\n",
              "    </g>\n",
              "    <defs>\n",
              "        <clipPath id=\"clip0_4338_178347\">\n",
              "            <rect width=\"566.93\" height=\"223.75\" fill=\"white\"/>\n",
              "        </clipPath>\n",
              "    </defs>\n",
              "  </svg>\n",
              "</div>\n",
              "\n",
              "        <table class=\"jp-RenderedHTMLCommon\" style=\"border-collapse: collapse;color: var(--jp-ui-font-color1);font-size: var(--jp-ui-font-size1);\">\n",
              "    <tr>\n",
              "        <td style=\"text-align: left\"><b>Python version:</b></td>\n",
              "        <td style=\"text-align: left\"><b>3.12.11</b></td>\n",
              "    </tr>\n",
              "    <tr>\n",
              "        <td style=\"text-align: left\"><b>Ray version:</b></td>\n",
              "        <td style=\"text-align: left\"><b>2.49.1</b></td>\n",
              "    </tr>\n",
              "    \n",
              "</table>\n",
              "\n",
              "    </div>\n",
              "</div>\n"
            ]
          },
          "metadata": {},
          "execution_count": 18
        }
      ],
      "source": [
        "# Build a local ray cluster. The head node and worker node are on this machine\n",
        "ray.init(num_cpus=3, num_gpus=1)"
      ]
    },
    {
      "cell_type": "markdown",
      "id": "a127e4e4",
      "metadata": {
        "id": "a127e4e4"
      },
      "source": [
        "Implement an Accumulator class."
      ]
    },
    {
      "cell_type": "code",
      "execution_count": 4,
      "id": "20e7b9a3",
      "metadata": {
        "tags": [],
        "id": "20e7b9a3"
      },
      "outputs": [],
      "source": [
        "@ray.remote(memory=500 * 1024 * 1024)\n",
        "class Accumulator:\n",
        "    def __init__(self):\n",
        "        self.value = 0\n",
        "\n",
        "    def add(self, x):\n",
        "        self.value += x\n",
        "\n",
        "    def get_value(self):\n",
        "        return self.value"
      ]
    },
    {
      "cell_type": "code",
      "execution_count": 5,
      "id": "3b80098c",
      "metadata": {
        "tags": [],
        "id": "3b80098c"
      },
      "outputs": [],
      "source": [
        "# Instantiate an accumulator. Accumulator can be viewed as a process, acting as an RPC service.\n",
        "accumulator = Accumulator.remote()"
      ]
    },
    {
      "cell_type": "code",
      "execution_count": 6,
      "id": "b14b1009",
      "metadata": {
        "tags": [],
        "colab": {
          "base_uri": "https://localhost:8080/"
        },
        "id": "b14b1009",
        "outputId": "680b3880-cf65-427f-f3a9-52bd54fa9b4c"
      },
      "outputs": [
        {
          "output_type": "stream",
          "name": "stdout",
          "text": [
            "0\n"
          ]
        }
      ],
      "source": [
        "value_ref = accumulator.get_value.remote()  # Check the current value. Note that this function returns immediately and does not actually wait for the remote execution to complete.\n",
        "# Get the value\n",
        "value = ray.get(value_ref)\n",
        "print(value)"
      ]
    },
    {
      "cell_type": "code",
      "source": [
        "ray.shutdown()"
      ],
      "metadata": {
        "id": "OVYVaxJXKqU6",
        "outputId": "d98d54d6-0d5c-45dc-afd5-f935d8973ad2",
        "colab": {
          "base_uri": "https://localhost:8080/"
        }
      },
      "id": "OVYVaxJXKqU6",
      "execution_count": 17,
      "outputs": [
        {
          "output_type": "stream",
          "name": "stderr",
          "text": [
            "\u001b[36m(MapWorker(MapBatches(EmbedImages)) pid=20933)\u001b[0m 2025-09-10 15:07:22.494588: E external/local_xla/xla/stream_executor/cuda/cuda_fft.cc:467] Unable to register cuFFT factory: Attempting to register factory for plugin cuFFT when one has already been registered\n",
            "\u001b[36m(MapWorker(MapBatches(EmbedImages)) pid=20933)\u001b[0m WARNING: All log messages before absl::InitializeLog() is called are written to STDERR\n",
            "\u001b[36m(MapWorker(MapBatches(EmbedImages)) pid=20933)\u001b[0m E0000 00:00:1757516842.551957   20933 cuda_dnn.cc:8579] Unable to register cuDNN factory: Attempting to register factory for plugin cuDNN when one has already been registered\n",
            "\u001b[36m(MapWorker(MapBatches(EmbedImages)) pid=20933)\u001b[0m E0000 00:00:1757516842.569632   20933 cuda_blas.cc:1407] Unable to register cuBLAS factory: Attempting to register factory for plugin cuBLAS when one has already been registered\n",
            "\u001b[36m(MapWorker(MapBatches(EmbedImages)) pid=20933)\u001b[0m W0000 00:00:1757516842.637188   20933 computation_placer.cc:177] computation placer already registered. Please check linkage and avoid linking the same target more than once.\u001b[32m [repeated 4x across cluster]\u001b[0m\n"
          ]
        }
      ]
    },
    {
      "cell_type": "code",
      "execution_count": 7,
      "id": "513a84b3",
      "metadata": {
        "tags": [],
        "colab": {
          "base_uri": "https://localhost:8080/"
        },
        "id": "513a84b3",
        "outputId": "242c1bd6-a926-43ba-932d-3dcf81e5ef33"
      },
      "outputs": [
        {
          "output_type": "stream",
          "name": "stdout",
          "text": [
            "10000\n"
          ]
        }
      ],
      "source": [
        "# Accumulate, then check the result.\n",
        "accumulator.add.remote(10000)  # Similarly, the 'add' here will return immediately.\n",
        "new_value = ray.get(accumulator.get_value.remote())\n",
        "print(new_value)"
      ]
    },
    {
      "cell_type": "code",
      "source": [
        "!ray status"
      ],
      "metadata": {
        "colab": {
          "base_uri": "https://localhost:8080/"
        },
        "id": "Av0a4Swk6Hvg",
        "outputId": "fb9f2bc9-0173-4382-9377-1af9679fb424"
      },
      "id": "Av0a4Swk6Hvg",
      "execution_count": 19,
      "outputs": [
        {
          "output_type": "stream",
          "name": "stdout",
          "text": [
            "2025-09-10 15:07:49,209 - INFO - NumExpr defaulting to 2 threads.\n",
            "======== Autoscaler status: 2025-09-10 15:07:47.819043 ========\n",
            "Node status\n",
            "---------------------------------------------------------------\n",
            "Active:\n",
            " 1 node_d36a56d9d43b382a13988f2f2c1f5a9a8b43d359112f5e964f1c3463\n",
            "Pending:\n",
            " (no pending nodes)\n",
            "Recent failures:\n",
            " (no failures)\n",
            "\n",
            "Resources\n",
            "---------------------------------------------------------------\n",
            "Total Usage:\n",
            " 0.0/3.0 CPU\n",
            " 0.0/1.0 GPU\n",
            " 0B/8.61GiB memory\n",
            " 0B/3.69GiB object_store_memory\n",
            "\n",
            "Total Constraints:\n",
            " (no request_resources() constraints)\n",
            "Total Demands:\n",
            " (no resource demands)\n",
            "\u001b[0m"
          ]
        }
      ]
    },
    {
      "cell_type": "code",
      "source": [
        "ds = ray.data.read_images(\n",
        "    \"s3://doggos-dataset/train\",\n",
        "    include_paths=True,\n",
        "    shuffle=\"files\",\n",
        ")\n",
        "# ds.take(1)"
      ],
      "metadata": {
        "id": "eBM4hdZc5sAx"
      },
      "id": "eBM4hdZc5sAx",
      "execution_count": 20,
      "outputs": []
    },
    {
      "cell_type": "code",
      "source": [
        "def add_class(row):\n",
        "    row[\"class\"] = row[\"path\"].rsplit(\"/\", 3)[-2]\n",
        "    return row\n",
        "\n",
        "  # Add class.\n",
        "ds = ds.map(add_class,\n",
        "    num_cpus=1,\n",
        "    num_gpus=0,\n",
        "    concurrency=4)"
      ],
      "metadata": {
        "id": "yPIkEw9T_RYy"
      },
      "id": "yPIkEw9T_RYy",
      "execution_count": 4,
      "outputs": []
    },
    {
      "cell_type": "code",
      "source": [
        "import numpy as np\n",
        "from PIL import Image\n",
        "import torch\n",
        "from transformers import CLIPModel, CLIPProcessor\n",
        "\n",
        "class EmbedImages(object):\n",
        "    def __init__(self, model_id, device):\n",
        "        # Load CLIP model and processor\n",
        "        self.processor = CLIPProcessor.from_pretrained(model_id)\n",
        "        self.model = CLIPModel.from_pretrained(model_id)\n",
        "        print(\"load model success.\")\n",
        "        self.model.to(device)\n",
        "        self.device = device\n",
        "\n",
        "    def __call__(self, batch):\n",
        "        # Load and preprocess images\n",
        "        images = [Image.fromarray(np.uint8(img)).convert(\"RGB\") for img in batch[\"image\"]]\n",
        "        inputs = self.processor(images=images, return_tensors=\"pt\", padding=True).to(self.device)\n",
        "\n",
        "        # Generate embeddings\n",
        "        with torch.inference_mode():\n",
        "            batch[\"embedding\"] = self.model.get_image_features(**inputs).cpu().numpy()\n",
        "\n",
        "        return batch"
      ],
      "metadata": {
        "id": "L2rTj3GcAGBB"
      },
      "id": "L2rTj3GcAGBB",
      "execution_count": 21,
      "outputs": []
    },
    {
      "cell_type": "code",
      "source": [
        "# Generate batch embeddings\n",
        "embeddings_ds = ds.map_batches(\n",
        "    EmbedImages,\n",
        "    fn_constructor_kwargs={\n",
        "        \"model_id\": \"openai/clip-vit-base-patch32\",\n",
        "        \"device\": \"cuda\",\n",
        "    },  # class kwargs\n",
        "    fn_kwargs={},  # __call__ kwargs\n",
        "    concurrency=4,\n",
        "    batch_size=64,\n",
        "    num_gpus=1,\n",
        "    accelerator_type=\"T4\",\n",
        ")\n",
        "embeddings_ds = embeddings_ds.drop_columns([\"image\"])  # remove image column\n"
      ],
      "metadata": {
        "id": "ffXzMaPWA06e"
      },
      "id": "ffXzMaPWA06e",
      "execution_count": 24,
      "outputs": []
    },
    {
      "cell_type": "code",
      "source": [
        "embeddings_ds.take(1)"
      ],
      "metadata": {
        "colab": {
          "base_uri": "https://localhost:8080/",
          "height": 1000,
          "referenced_widgets": [
            "5607d02984e44674be0afc595465126b",
            "0ab6d8da9a5142c5a16ce9e86b583056",
            "5e4da980bca6431487d7f8c893ca8a57",
            "21508fa2ddb54bff92cf9660e6d245a5",
            "142170e7d23d49a788d8537b086e68e3",
            "b5cfa9f945ed4aa4965bb65abbdecae4",
            "fa43c3090cbc4ca5ac5533c47470c0ac",
            "251c62c7bc884cbfbccd7ea5c5ab4846",
            "d5b946357f694815a232e864bc441d74",
            "15138d8c16e14de4bba89f1615a7fd55",
            "f78a4bc39ddc4fdcaa7120769b900550",
            "17aea86a85eb4141b1f79a3f306924d4",
            "0e94e9ae012d4f30aed51c6bdd1f1bc1",
            "47bd556b2f424774815fbf0380aab1da",
            "d0d7447832aa4dd98d9a9fe502622624",
            "0c9439664f3842a0865e0994b410350e",
            "adb27d2a8132498db90952ccf9a229a5",
            "c44131e9bda24a5e9d7f9dde499922ab",
            "18c4c617fd334559bde882b1687514ba",
            "d5619cd589ef46ad8eb1cdef4dc91c05",
            "fcab970132234916a509300b73873d5f",
            "50355d3221cd4ccc807417fb66f4b940",
            "6a6e4ff4e4a249dfb0348eb2a092aba4",
            "89758ef3bc714418aba51034a988d8ae",
            "8e404079735145d29cacd58edeecc991",
            "dfffd70fa0d64c8e8f6ef22529f895b0",
            "d4ae3295e43e43c3b640c433e2d5b0be",
            "04ec6db61c6d47fe9bddca513b1b76c5",
            "62d23ce0af564974aabca26ee1b0c618",
            "05295887247b4c3daa1f1b59bcf3b1b4",
            "055bebd08eac4c948e05dffa60cb9569",
            "678cbca158694de591f4f2f96fae8e36",
            "12d7a7b723f34c9e9480f25e856a81fa",
            "4c90faf2d2514661bac6c6927a599b89",
            "8fa60d95b07348e29a13414711b58f13",
            "04b8f0832b9a43ad84759e43932d39a1",
            "681e69b5629e442a8d8ccb20a4ac9995",
            "915e01f6d08f4857b4e3bf33ac9a4bd2",
            "af248d504ca046ceaf8feed5bcb119d9",
            "e63e6ce78fc745f9ac0f6a6aca760f99",
            "7443a0c6644843ce98630753fcb01c76",
            "d7c91116a40d402d9a362156be247bf7",
            "07be11ca5e394c5d9b100a6083d5b663",
            "dee14e0feebb4beebca8ee8205795ac6",
            "3954d81d1bcd400188631e31410f1f2b",
            "5216a9404eb64f798cb5d005b0a3662b",
            "37abac53854945c5845b5b6d45ea7fbb",
            "101d760122e74d0b8bb941e74511cb6f",
            "4901337eadb243d1b59dfe97c3b7ddd7",
            "92a0f492fc044e5aa614cb1b603ac734",
            "9c2399a6edf34b17be56ccfd377fec2e",
            "2e8018ff4abf409ab7d8d2b09f1bc283",
            "ac1f26ebd19546c08ff621353d03e4a6",
            "4ebe173968e74587b0514dc867ebcc6f",
            "7151ebf3c99b4885aae0f06ec3bb1f92"
          ]
        },
        "id": "GGYeAGCgA-Tw",
        "outputId": "928f4dfc-3328-42ea-c3a2-1df9eaf6f41d"
      },
      "id": "GGYeAGCgA-Tw",
      "execution_count": 25,
      "outputs": [
        {
          "output_type": "stream",
          "name": "stderr",
          "text": [
            "2025-09-10 15:08:50,583\tINFO logging.py:295 -- Registered dataset logger for dataset dataset_6_0\n",
            "2025-09-10 15:08:50,600\tINFO streaming_executor.py:159 -- Starting execution of Dataset dataset_6_0. Full logs are in /tmp/ray/session_2025-09-10_15-07-29_606331_17896/logs/ray-data\n",
            "2025-09-10 15:08:50,601\tINFO streaming_executor.py:160 -- Execution plan of Dataset dataset_6_0: InputDataBuffer[Input] -> TaskPoolMapOperator[ReadImage] -> ActorPoolMapOperator[MapBatches(EmbedImages)] -> TaskPoolMapOperator[MapBatches(drop_columns)] -> LimitOperator[limit=1]\n"
          ]
        },
        {
          "output_type": "display_data",
          "data": {
            "text/plain": [
              "Running 0: 0.00 row [00:00, ? row/s]"
            ],
            "application/vnd.jupyter.widget-view+json": {
              "version_major": 2,
              "version_minor": 0,
              "model_id": "5607d02984e44674be0afc595465126b"
            }
          },
          "metadata": {}
        },
        {
          "output_type": "display_data",
          "data": {
            "text/plain": [
              "- ReadImage 1: 0.00 row [00:00, ? row/s]"
            ],
            "application/vnd.jupyter.widget-view+json": {
              "version_major": 2,
              "version_minor": 0,
              "model_id": "17aea86a85eb4141b1f79a3f306924d4"
            }
          },
          "metadata": {}
        },
        {
          "output_type": "display_data",
          "data": {
            "text/plain": [
              "- MapBatches(EmbedImages) 2: 0.00 row [00:00, ? row/s]"
            ],
            "application/vnd.jupyter.widget-view+json": {
              "version_major": 2,
              "version_minor": 0,
              "model_id": "6a6e4ff4e4a249dfb0348eb2a092aba4"
            }
          },
          "metadata": {}
        },
        {
          "output_type": "display_data",
          "data": {
            "text/plain": [
              "- MapBatches(drop_columns) 3: 0.00 row [00:00, ? row/s]"
            ],
            "application/vnd.jupyter.widget-view+json": {
              "version_major": 2,
              "version_minor": 0,
              "model_id": "4c90faf2d2514661bac6c6927a599b89"
            }
          },
          "metadata": {}
        },
        {
          "output_type": "display_data",
          "data": {
            "text/plain": [
              "- limit=1 4: 0.00 row [00:00, ? row/s]"
            ],
            "application/vnd.jupyter.widget-view+json": {
              "version_major": 2,
              "version_minor": 0,
              "model_id": "3954d81d1bcd400188631e31410f1f2b"
            }
          },
          "metadata": {}
        },
        {
          "output_type": "stream",
          "name": "stderr",
          "text": [
            "\u001b[36m(MapWorker(MapBatches(EmbedImages)) pid=21828)\u001b[0m 2025-09-10 15:09:02.013601: E external/local_xla/xla/stream_executor/cuda/cuda_fft.cc:467] Unable to register cuFFT factory: Attempting to register factory for plugin cuFFT when one has already been registered\n",
            "\u001b[36m(MapWorker(MapBatches(EmbedImages)) pid=21828)\u001b[0m WARNING: All log messages before absl::InitializeLog() is called are written to STDERR\n",
            "\u001b[36m(MapWorker(MapBatches(EmbedImages)) pid=21828)\u001b[0m E0000 00:00:1757516942.049603   21828 cuda_dnn.cc:8579] Unable to register cuDNN factory: Attempting to register factory for plugin cuDNN when one has already been registered\n",
            "\u001b[36m(MapWorker(MapBatches(EmbedImages)) pid=21828)\u001b[0m E0000 00:00:1757516942.060645   21828 cuda_blas.cc:1407] Unable to register cuBLAS factory: Attempting to register factory for plugin cuBLAS when one has already been registered\n",
            "\u001b[36m(MapWorker(MapBatches(EmbedImages)) pid=21828)\u001b[0m W0000 00:00:1757516942.087773   21828 computation_placer.cc:177] computation placer already registered. Please check linkage and avoid linking the same target more than once.\n",
            "\u001b[36m(MapWorker(MapBatches(EmbedImages)) pid=21828)\u001b[0m W0000 00:00:1757516942.087815   21828 computation_placer.cc:177] computation placer already registered. Please check linkage and avoid linking the same target more than once.\n",
            "\u001b[36m(MapWorker(MapBatches(EmbedImages)) pid=21828)\u001b[0m W0000 00:00:1757516942.087821   21828 computation_placer.cc:177] computation placer already registered. Please check linkage and avoid linking the same target more than once.\n",
            "\u001b[36m(MapWorker(MapBatches(EmbedImages)) pid=21828)\u001b[0m W0000 00:00:1757516942.087825   21828 computation_placer.cc:177] computation placer already registered. Please check linkage and avoid linking the same target more than once.\n",
            "\u001b[36m(MapWorker(MapBatches(EmbedImages)) pid=21828)\u001b[0m Using a slow image processor as `use_fast` is unset and a slow processor was saved with this model. `use_fast=True` will be the default behavior in v4.52, even if the model was saved with a slow processor. This will result in minor differences in outputs. You'll still be able to use a slow processor with `use_fast=False`.\n",
            "\u001b[36m(MapWorker(MapBatches(EmbedImages)) pid=21906)\u001b[0m 2025-09-10 15:09:06.392749: E external/local_xla/xla/stream_executor/cuda/cuda_fft.cc:467] Unable to register cuFFT factory: Attempting to register factory for plugin cuFFT when one has already been registered\n",
            "\u001b[36m(MapWorker(MapBatches(EmbedImages)) pid=21906)\u001b[0m WARNING: All log messages before absl::InitializeLog() is called are written to STDERR\n",
            "\u001b[36m(MapWorker(MapBatches(EmbedImages)) pid=21906)\u001b[0m E0000 00:00:1757516946.428018   21906 cuda_dnn.cc:8579] Unable to register cuDNN factory: Attempting to register factory for plugin cuDNN when one has already been registered\n",
            "\u001b[36m(MapWorker(MapBatches(EmbedImages)) pid=21906)\u001b[0m E0000 00:00:1757516946.438701   21906 cuda_blas.cc:1407] Unable to register cuBLAS factory: Attempting to register factory for plugin cuBLAS when one has already been registered\n",
            "\u001b[36m(MapWorker(MapBatches(EmbedImages)) pid=21906)\u001b[0m W0000 00:00:1757516946.471519   21906 computation_placer.cc:177] computation placer already registered. Please check linkage and avoid linking the same target more than once.\u001b[32m [repeated 4x across cluster]\u001b[0m\n",
            "Fetching 1 files: 100%|██████████| 1/1 [00:00<00:00, 13189.64it/s]\n"
          ]
        },
        {
          "output_type": "stream",
          "name": "stdout",
          "text": [
            "\u001b[36m(MapWorker(MapBatches(EmbedImages)) pid=21828)\u001b[0m load model success.\n"
          ]
        },
        {
          "output_type": "stream",
          "name": "stderr",
          "text": [
            "\u001b[36m(MapWorker(MapBatches(EmbedImages)) pid=21828)\u001b[0m Exception raised in creation task: The actor died because of an error raised in its creation task, \u001b[36mray::MapWorker(MapBatches(EmbedImages)).__init__()\u001b[39m (pid=21828, ip=172.28.0.12, actor_id=a4e293550eb13fa44d50e03501000000, repr=MapWorker(MapBatches(EmbedImages)))\n",
            "\u001b[36m(MapWorker(MapBatches(EmbedImages)) pid=21828)\u001b[0m            ^^^^^^^^^^^^^^^^^^^^^^^^^^^^^^^^^^^^\n",
            "\u001b[36m(MapWorker(MapBatches(EmbedImages)) pid=21828)\u001b[0m            ^^^^^^^^^^^^^^^^^^^^^^^^^^^^^^^\n",
            "\u001b[36m(MapWorker(MapBatches(EmbedImages)) pid=21828)\u001b[0m   File \"/usr/local/lib/python3.12/dist-packages/ray/data/_internal/execution/operators/actor_pool_map_operator.py\", line 519, in __init__\n",
            "\u001b[36m(MapWorker(MapBatches(EmbedImages)) pid=21828)\u001b[0m     self._map_transformer.init()\n",
            "\u001b[36m(MapWorker(MapBatches(EmbedImages)) pid=21828)\u001b[0m   File \"/usr/local/lib/python3.12/dist-packages/ray/data/_internal/execution/operators/map_transformer.py\", line 202, in init\n",
            "\u001b[36m(MapWorker(MapBatches(EmbedImages)) pid=21828)\u001b[0m     self._init_fn()\n",
            "\u001b[36m(MapWorker(MapBatches(EmbedImages)) pid=21828)\u001b[0m   File \"/usr/local/lib/python3.12/dist-packages/ray/data/_internal/planner/plan_udf_map_op.py\", line 306, in init_fn\n",
            "\u001b[36m(MapWorker(MapBatches(EmbedImages)) pid=21828)\u001b[0m     udf_map_fn=udf(\n",
            "\u001b[36m(MapWorker(MapBatches(EmbedImages)) pid=21828)\u001b[0m                ^^^^\n",
            "\u001b[36m(MapWorker(MapBatches(EmbedImages)) pid=21828)\u001b[0m   File \"/usr/local/lib/python3.12/dist-packages/ray/data/_internal/execution/util.py\", line 72, in __init__\n",
            "\u001b[36m(MapWorker(MapBatches(EmbedImages)) pid=21828)\u001b[0m     super().__init__(*args, **kwargs)\n",
            "\u001b[36m(MapWorker(MapBatches(EmbedImages)) pid=21828)\u001b[0m   File \"/tmp/ipython-input-1620750465.py\", line 12, in __init__\n",
            "\u001b[36m(MapWorker(MapBatches(EmbedImages)) pid=21828)\u001b[0m   File \"/usr/local/lib/python3.12/dist-packages/transformers/modeling_utils.py\", line 4459, in to\n",
            "\u001b[36m(MapWorker(MapBatches(EmbedImages)) pid=21828)\u001b[0m     return super().to(*args, **kwargs)\n",
            "\u001b[36m(MapWorker(MapBatches(EmbedImages)) pid=21828)\u001b[0m            ^^^^^^^^^^^^^^^^^^^^^^^^^^^\n",
            "\u001b[36m(MapWorker(MapBatches(EmbedImages)) pid=21828)\u001b[0m   File \"/usr/local/lib/python3.12/dist-packages/torch/nn/modules/module.py\", line 1369, in to\n",
            "\u001b[36m(MapWorker(MapBatches(EmbedImages)) pid=21828)\u001b[0m     return self._apply(convert)\n",
            "\u001b[36m(MapWorker(MapBatches(EmbedImages)) pid=21828)\u001b[0m            ^^^^^^^^^^^^^^^^^^^^\n",
            "\u001b[36m(MapWorker(MapBatches(EmbedImages)) pid=21828)\u001b[0m   File \"/usr/local/lib/python3.12/dist-packages/torch/nn/modules/module.py\", line 928, in _apply\n",
            "\u001b[36m(MapWorker(MapBatches(EmbedImages)) pid=21828)\u001b[0m     module._apply(fn)\n",
            "\u001b[36m(MapWorker(MapBatches(EmbedImages)) pid=21828)\u001b[0m   File \"/usr/local/lib/python3.12/dist-packages/torch/nn/modules/module.py\", line 928, in _apply\n",
            "\u001b[36m(MapWorker(MapBatches(EmbedImages)) pid=21828)\u001b[0m     module._apply(fn)\n",
            "\u001b[36m(MapWorker(MapBatches(EmbedImages)) pid=21828)\u001b[0m   File \"/usr/local/lib/python3.12/dist-packages/torch/nn/modules/module.py\", line 928, in _apply\n",
            "\u001b[36m(MapWorker(MapBatches(EmbedImages)) pid=21828)\u001b[0m     module._apply(fn)\n",
            "\u001b[36m(MapWorker(MapBatches(EmbedImages)) pid=21828)\u001b[0m   File \"/usr/local/lib/python3.12/dist-packages/torch/nn/modules/module.py\", line 955, in _apply\n",
            "\u001b[36m(MapWorker(MapBatches(EmbedImages)) pid=21828)\u001b[0m     param_applied = fn(param)\n",
            "\u001b[36m(MapWorker(MapBatches(EmbedImages)) pid=21828)\u001b[0m                     ^^^^^^^^^\n",
            "\u001b[36m(MapWorker(MapBatches(EmbedImages)) pid=21828)\u001b[0m   File \"/usr/local/lib/python3.12/dist-packages/torch/nn/modules/module.py\", line 1355, in convert\n",
            "\u001b[36m(MapWorker(MapBatches(EmbedImages)) pid=21828)\u001b[0m     return t.to(\n",
            "\u001b[36m(MapWorker(MapBatches(EmbedImages)) pid=21828)\u001b[0m            ^^^^^\n",
            "\u001b[36m(MapWorker(MapBatches(EmbedImages)) pid=21828)\u001b[0m   File \"/usr/local/lib/python3.12/dist-packages/torch/cuda/__init__.py\", line 412, in _lazy_init\n",
            "\u001b[36m(MapWorker(MapBatches(EmbedImages)) pid=21828)\u001b[0m     torch._C._cuda_init()\n",
            "\u001b[36m(MapWorker(MapBatches(EmbedImages)) pid=21828)\u001b[0m RuntimeError: No CUDA GPUs are available\n",
            "\u001b[36m(MapWorker(MapBatches(EmbedImages)) pid=21906)\u001b[0m Using a slow image processor as `use_fast` is unset and a slow processor was saved with this model. `use_fast=True` will be the default behavior in v4.52, even if the model was saved with a slow processor. This will result in minor differences in outputs. You'll still be able to use a slow processor with `use_fast=False`.\n",
            "Fetching 1 files: 100%|██████████| 1/1 [00:00<00:00, 13486.51it/s]\n",
            "2025-09-10 15:11:03,116\tINFO streaming_executor.py:279 -- ✔️  Dataset dataset_6_0 execution finished in 132.51 seconds\n"
          ]
        },
        {
          "output_type": "execute_result",
          "data": {
            "text/plain": [
              "[{'path': 'doggos-dataset/train/miniature_poodle/miniature_poodle_578.jpg',\n",
              "  'embedding': array([ 2.42514044e-01,  4.79291752e-03, -2.53213882e-01, -1.38595656e-01,\n",
              "          1.18952475e-01, -7.33686328e-01,  8.69309306e-01,  3.81725520e-01,\n",
              "          4.21172976e-01,  1.50552899e-01, -1.65305138e-01,  4.52316701e-01,\n",
              "          4.23103034e-01, -1.36677727e-01,  2.15538830e-01,  5.10052025e-01,\n",
              "          1.13740516e+00, -2.98703879e-01,  1.67848662e-01, -1.52105302e-01,\n",
              "         -5.85613668e-01, -5.45159094e-02,  6.17732048e-01, -5.20813346e-01,\n",
              "          7.73368403e-02,  1.31762996e-01,  5.61286151e-01, -9.57396440e-03,\n",
              "          1.33864611e-01, -1.70108750e-01,  1.54682606e-01,  2.26547718e-01,\n",
              "          2.83533037e-01,  1.15474433e-01,  2.44471803e-01,  1.24475501e-01,\n",
              "          1.31247312e-01, -3.00186992e-01, -7.41292313e-02,  1.67433965e+00,\n",
              "         -6.44214392e-01,  1.35142908e-01,  4.02424157e-01, -3.53436381e-01,\n",
              "          2.34429687e-01, -1.01177502e+00, -5.34806252e-01,  2.50230491e-01,\n",
              "          1.85872950e-02,  6.20227158e-02, -1.20121852e-01,  2.22372532e-01,\n",
              "         -3.03100795e-04,  3.38521719e-01,  2.08344549e-01,  2.25984290e-01,\n",
              "          4.36283678e-01,  2.93878675e-01, -2.96890795e-01, -4.27247763e-01,\n",
              "          1.50010943e+00, -8.04980099e-02,  3.88064831e-01, -1.34992257e-01,\n",
              "          9.96921957e-02, -3.30598027e-01, -2.76067138e-01, -4.74903822e-01,\n",
              "         -6.58031553e-02,  1.69599634e-02, -1.36769280e-01,  7.76153058e-02,\n",
              "          1.14342280e-01,  2.71194577e-01, -2.00359777e-01,  1.52879015e-01,\n",
              "         -3.48676383e-01, -7.40465403e-01,  5.04123233e-02,  1.99460834e-01,\n",
              "          1.06204711e-01,  7.48827979e-02, -1.63838685e-01, -5.38037717e-01,\n",
              "          2.70054758e-01, -7.10704386e-01,  1.46807358e-01, -1.31441116e-01,\n",
              "          5.55199921e-01, -1.43194571e-02, -3.48881036e-01, -4.94853944e-01,\n",
              "         -6.79802608e+00,  8.23156238e-01, -4.14492413e-02,  1.13979094e-01,\n",
              "          1.23106375e-01,  3.22404236e-01, -1.22215152e+00,  6.88120604e-01,\n",
              "          2.50276923e-01, -1.62318349e-04,  6.80336878e-02,  1.47792906e-01,\n",
              "          5.23144960e-01, -2.26730555e-01, -7.99037218e-02,  3.28966171e-01,\n",
              "         -2.81443328e-01, -2.49150470e-01,  1.80893898e-01, -3.25527549e-01,\n",
              "         -1.79692917e-02,  4.55509648e-02, -1.43263459e-01,  2.53809720e-01,\n",
              "         -3.87289077e-02, -5.05356014e-01,  2.84953237e-01, -3.38033497e-01,\n",
              "          5.41164577e-01,  1.33611590e-01, -8.45693275e-02,  3.93509269e-02,\n",
              "          2.97299027e-01, -6.47613168e-01, -3.75664920e-01,  4.95816708e-01,\n",
              "         -1.19671665e-01, -6.05464637e-01,  3.80682766e-01, -1.34199068e-01,\n",
              "         -3.56481820e-01,  8.89255702e-01, -4.68061745e-01, -1.84165716e-01,\n",
              "         -6.48202002e-02, -2.85632282e-01,  4.29075986e-01,  7.66573697e-02,\n",
              "         -3.26903045e-01,  1.28797323e-01,  1.86272174e-01,  3.54929596e-01,\n",
              "         -2.57198721e-01,  5.13954043e-01,  3.18301797e-01,  3.54117155e-01,\n",
              "         -3.97092938e-01, -1.33299112e-01, -9.30540785e-02,  1.03432313e-01,\n",
              "          3.14209938e-01, -5.12923539e-01, -3.70498776e-01,  4.34586912e-01,\n",
              "         -1.85213536e-01, -2.52830893e-01, -1.72062784e-01,  2.52116829e-01,\n",
              "         -6.93950832e-01, -1.86194599e-01, -1.00998171e-01,  1.25672370e-01,\n",
              "          4.96207952e-01,  4.63347211e-02, -3.02556753e-01, -4.64612916e-02,\n",
              "          3.30145717e-01,  3.28912772e-02,  2.95730345e-02,  2.38124773e-01,\n",
              "          2.13386476e-01, -5.28528988e-01,  2.16513604e-01,  2.62402833e-01,\n",
              "          1.19976056e+00,  1.45069852e-01,  3.90212357e-01, -2.92631358e-01,\n",
              "         -6.36594772e-01,  5.19227624e-01,  1.02549776e-01, -2.66159445e-01,\n",
              "          4.00837779e-01, -4.65747386e-01,  2.19248533e-01, -3.25302295e-02,\n",
              "          4.48606402e-01, -5.21949083e-02,  7.23116398e-02,  2.31538922e-01,\n",
              "          3.68388981e-01,  3.31195146e-01,  9.56297517e-02,  1.90338790e-01,\n",
              "          9.48035344e-02, -4.47840132e-02, -5.55570662e-01, -2.12293938e-02,\n",
              "         -7.92616531e-02,  2.39963740e-01,  2.95069609e-02, -3.30721647e-01,\n",
              "         -7.61106074e-01, -6.44422591e-01, -4.61631447e-01, -3.42669159e-01,\n",
              "          2.36753002e-02,  3.86539906e-01, -4.18771565e-01,  2.14519396e-01,\n",
              "          1.97725296e-01,  4.06702518e-01, -6.28675222e-02,  2.36072451e-01,\n",
              "         -2.67493371e-02,  1.85458839e-01,  7.20331907e-01,  1.85667992e-01,\n",
              "          4.73947614e-01,  9.42164958e-02,  9.71713141e-02,  7.78358430e-02,\n",
              "         -4.02046889e-01, -1.45515092e-02, -3.45575303e-01, -5.50553948e-03,\n",
              "          8.87081981e-01, -4.06660557e-01,  3.70526940e-01, -1.17410533e-01,\n",
              "          1.62921444e-01,  9.09703150e-02,  9.16605536e-03,  4.99487340e-01,\n",
              "         -1.18526429e-01, -2.22300142e-01,  1.94664508e-01, -3.13816071e-01,\n",
              "         -3.31880823e-02,  1.30192816e-01,  1.89847410e-01,  3.46750498e-01,\n",
              "         -1.96281984e-01, -9.51238126e-02,  2.18496084e-01, -7.89829493e-01,\n",
              "          1.63040608e-01,  5.54042697e-01,  4.05727401e-02,  3.26032877e-01,\n",
              "          3.14155966e-01,  1.53629676e-01,  3.39462847e-01, -1.49463445e-01,\n",
              "          1.83425993e-01,  3.62821639e-01, -2.50677049e-01, -2.36329079e-01,\n",
              "         -2.27247506e-01,  3.91301572e-01,  1.56376705e-01,  3.70366395e-01,\n",
              "          1.13695517e-01, -3.16305161e-01, -3.09476584e-01, -1.73781812e-03,\n",
              "          2.44078860e-01,  8.77803981e-01, -1.27325952e-02,  1.81807533e-01,\n",
              "          4.86702770e-01,  7.57625997e-02, -3.33468795e-01, -7.01231435e-02,\n",
              "          2.89067000e-01, -2.28061900e-01, -5.18472135e-01, -9.56004262e-02,\n",
              "         -1.14827998e-01,  1.35655016e-01, -3.72106493e-01,  1.66258216e-02,\n",
              "         -2.18895018e-01,  1.44628569e-01,  3.16518694e-01, -1.01400837e-01,\n",
              "         -2.07831457e-01, -1.20897219e-02, -1.32735714e-01,  3.42825353e-02,\n",
              "          1.11607119e-01, -7.45223612e-02,  2.68120430e-02,  9.60506797e-02,\n",
              "          3.45741481e-01,  1.79405570e-01,  4.09024179e-01, -1.70257837e-02,\n",
              "         -2.53600836e-01, -8.33304226e-03,  1.33350119e-01,  3.41773838e-01,\n",
              "          3.69467497e-01, -2.77242452e-01, -9.61281955e-02,  4.27323937e-01,\n",
              "          4.17574465e-01,  1.94242626e-01, -8.25040340e-02,  4.18281347e-01,\n",
              "          8.86382937e-01, -1.73797205e-01,  5.18376753e-02, -1.89800039e-02,\n",
              "          1.78398669e-01,  2.63068080e-01, -2.72217095e-02, -6.35104716e-01,\n",
              "          8.40596616e-01,  3.03147227e-01, -2.29626730e-01,  1.81823149e-01,\n",
              "          4.95725989e-01,  3.41783285e-01, -1.98690966e-01,  6.04151152e-02,\n",
              "         -4.00324285e-01, -3.68963107e-02, -3.68654914e-02, -1.49940372e-01,\n",
              "          7.56924331e-01, -5.05452573e-01,  2.25823477e-01,  2.64878631e-01,\n",
              "         -3.98419164e-02,  3.41454387e-01,  1.02959245e-01, -2.82433271e-01,\n",
              "          2.25709319e-01, -3.09247017e-01,  1.94694355e-01,  2.18378365e-01,\n",
              "          5.68844140e-01,  4.19308066e-01,  3.12183112e-01,  3.60284820e-02,\n",
              "          4.31480631e-02, -2.04547316e-01, -5.52017510e-01, -2.99090222e-02,\n",
              "          4.32355702e-01,  2.05328420e-01,  2.06082240e-01,  8.75772357e-01,\n",
              "         -1.07405208e-01, -2.04099154e+00,  3.84351760e-02,  8.93630087e-03,\n",
              "          6.73759460e-01, -5.24555147e-02,  4.31700647e-01, -3.17472577e-01,\n",
              "         -9.93976355e-01, -3.94189209e-02, -1.99562162e-01, -1.14481437e+00,\n",
              "          2.64755338e-01, -1.00948334e-01, -4.50263210e-02, -8.85234103e-02,\n",
              "         -2.42297634e-01,  4.37049009e-02, -1.37429684e-01, -1.98758096e-01,\n",
              "          2.05721855e+00, -3.62400085e-01,  4.40658450e-01,  4.27057505e-01,\n",
              "          4.86573391e-02, -1.79436594e-01,  6.45425841e-02,  7.72415996e-02,\n",
              "          4.25561607e-01, -5.70374846e-01, -3.26586455e-01, -2.16795385e-01,\n",
              "          6.91914380e-01, -8.12392533e-01, -7.68764198e-01, -7.35505819e-01,\n",
              "          2.44666576e-01, -2.64554232e-01, -1.31258219e-02, -7.70467669e-02,\n",
              "          1.55483261e-02,  4.75085974e-02, -2.45645240e-01, -3.17273200e-01,\n",
              "         -2.06169188e-01,  1.61746442e-01, -6.59552217e-03,  2.07730621e-01,\n",
              "          6.21191375e-02, -1.61637709e-01,  1.33949935e-01, -5.55205107e-01,\n",
              "          3.96632284e-01, -2.11129889e-01,  1.08639562e+00, -7.02182949e-01,\n",
              "         -1.29460841e-01,  6.98823035e-02, -1.73638284e-01,  2.61180043e-01,\n",
              "          3.86367530e-01, -5.92672303e-02,  3.89435768e-01, -3.34780216e-01,\n",
              "          6.44268274e-01, -1.45581812e-02, -1.86247528e-02, -4.04473633e-01,\n",
              "          1.07753232e-01, -5.11232138e-01,  2.40839422e-02,  9.56944153e-02,\n",
              "         -5.78350604e-01, -3.03551048e-01,  5.34410961e-02,  2.86350757e-01,\n",
              "          4.40355390e-01,  7.29449317e-02,  4.53810543e-02, -1.50855124e-01,\n",
              "         -6.27265632e-01,  4.39657062e-01,  2.69550811e-02,  1.76212668e-01,\n",
              "         -5.31758368e-02,  9.63029787e-02, -3.36581528e-01, -3.24893922e-01,\n",
              "          3.48464042e-01, -2.13330865e-01, -5.41742556e-02,  2.43988514e-01,\n",
              "         -5.32541685e-02,  1.71513436e-03, -1.85909480e-01, -2.44509935e-01,\n",
              "          4.16661501e-01,  1.25777170e-01, -2.17488557e-01, -5.33353925e-01,\n",
              "          2.09544331e-01,  1.54330447e-01,  2.45969668e-01,  2.88659155e-01,\n",
              "          4.57869470e-02,  3.82366449e-01, -1.96496457e-01,  4.47318465e-01,\n",
              "          4.95031551e-02,  3.05916309e-01, -6.40453100e-01, -2.38518864e-01,\n",
              "         -5.01777530e-01,  2.41437376e-01,  7.77071357e-01, -3.33193243e-01,\n",
              "         -7.15360343e-02, -3.01593781e-01,  1.56397536e-01,  1.68389231e-01,\n",
              "          2.07522616e-01,  1.95660874e-01, -2.91624069e-01,  1.03739738e-01,\n",
              "          2.41853833e-01, -4.56151545e-01, -6.25517070e-02, -3.25055793e-02,\n",
              "         -3.18536460e-01,  2.57021755e-01,  1.66584983e-01,  2.07546055e-01,\n",
              "         -2.87625670e-01, -7.20611066e-02, -5.02619147e-01, -3.46916169e-01,\n",
              "          2.37468585e-01, -4.15973485e-01, -1.37005299e-01, -5.88529527e-01,\n",
              "          2.00990841e-01,  4.84307498e-01, -1.60923898e-01, -7.02260658e-02,\n",
              "         -6.27944887e-01, -3.71428967e-01, -2.25294918e-01,  3.87705654e-01,\n",
              "          2.06744522e-02,  1.69904932e-01, -1.94367766e-01, -2.42207140e-01,\n",
              "         -1.81028858e-01,  1.96238160e-01,  3.20833027e-01, -2.50217915e-01],\n",
              "        dtype=float32)}]"
            ]
          },
          "metadata": {},
          "execution_count": 25
        }
      ]
    },
    {
      "cell_type": "markdown",
      "id": "3c332fe0",
      "metadata": {
        "id": "3c332fe0"
      },
      "source": [
        "## Chapter 2: Resource Pool and RayWorkerGroup\n",
        "In the previous example, it was a simple single-process worker.\n",
        "In this example, we implement a worker with a GPU and form a RayWorkerGroup. Within this RayWorkerGroup, we implement a simple operation of an accumulator."
      ]
    },
    {
      "cell_type": "code",
      "execution_count": 15,
      "id": "04229afb",
      "metadata": {
        "tags": [],
        "colab": {
          "base_uri": "https://localhost:8080/",
          "height": 342
        },
        "id": "04229afb",
        "outputId": "4836f13f-d4b7-406f-b5f4-9feb7ec219cf"
      },
      "outputs": [
        {
          "output_type": "error",
          "ename": "ModuleNotFoundError",
          "evalue": "No module named 'verl'",
          "traceback": [
            "\u001b[0;31m---------------------------------------------------------------------------\u001b[0m",
            "\u001b[0;31mModuleNotFoundError\u001b[0m                       Traceback (most recent call last)",
            "\u001b[0;32m/tmp/ipython-input-2901592430.py\u001b[0m in \u001b[0;36m<cell line: 0>\u001b[0;34m()\u001b[0m\n\u001b[0;32m----> 1\u001b[0;31m \u001b[0;32mfrom\u001b[0m \u001b[0mverl\u001b[0m\u001b[0;34m.\u001b[0m\u001b[0msingle_controller\u001b[0m\u001b[0;34m.\u001b[0m\u001b[0mbase\u001b[0m \u001b[0;32mimport\u001b[0m \u001b[0mWorker\u001b[0m\u001b[0;34m\u001b[0m\u001b[0;34m\u001b[0m\u001b[0m\n\u001b[0m\u001b[1;32m      2\u001b[0m \u001b[0;32mfrom\u001b[0m \u001b[0mverl\u001b[0m\u001b[0;34m.\u001b[0m\u001b[0msingle_controller\u001b[0m\u001b[0;34m.\u001b[0m\u001b[0mray\u001b[0m\u001b[0;34m.\u001b[0m\u001b[0mbase\u001b[0m \u001b[0;32mimport\u001b[0m \u001b[0mRayClassWithInitArgs\u001b[0m\u001b[0;34m,\u001b[0m \u001b[0mRayResourcePool\u001b[0m\u001b[0;34m,\u001b[0m \u001b[0mRayWorkerGroup\u001b[0m\u001b[0;34m,\u001b[0m \u001b[0mmerge_resource_pool\u001b[0m\u001b[0;34m\u001b[0m\u001b[0;34m\u001b[0m\u001b[0m\n",
            "\u001b[0;31mModuleNotFoundError\u001b[0m: No module named 'verl'",
            "",
            "\u001b[0;31m---------------------------------------------------------------------------\u001b[0;32m\nNOTE: If your import is failing due to a missing package, you can\nmanually install dependencies using either !pip or !apt.\n\nTo view examples of installing some common dependencies, click the\n\"Open Examples\" button below.\n\u001b[0;31m---------------------------------------------------------------------------\u001b[0m\n"
          ],
          "errorDetails": {
            "actions": [
              {
                "action": "open_url",
                "actionText": "Open Examples",
                "url": "/notebooks/snippets/importing_libraries.ipynb"
              }
            ]
          }
        }
      ],
      "source": [
        "from verl.single_controller.base import Worker\n",
        "from verl.single_controller.ray.base import RayClassWithInitArgs, RayResourcePool, RayWorkerGroup, merge_resource_pool"
      ]
    },
    {
      "cell_type": "code",
      "execution_count": null,
      "id": "0d0dbd58",
      "metadata": {
        "tags": [],
        "id": "0d0dbd58"
      },
      "outputs": [],
      "source": [
        "resource_pool = RayResourcePool([4], use_gpu=True)"
      ]
    },
    {
      "cell_type": "code",
      "execution_count": null,
      "id": "68f6838a",
      "metadata": {
        "tags": [],
        "id": "68f6838a"
      },
      "outputs": [],
      "source": [
        "@ray.remote\n",
        "class GPUAccumulator(Worker):\n",
        "    def __init__(self) -> None:\n",
        "        super().__init__()\n",
        "        # The initial value of each rank is the same as the rank\n",
        "        self.value = torch.zeros(size=(1,), device=\"cuda\") + self.rank\n",
        "\n",
        "    def add(self, x):\n",
        "        self.value += x\n",
        "        print(f\"rank {self.rank}, value: {self.value}\")\n",
        "        return self.value.cpu()"
      ]
    },
    {
      "cell_type": "code",
      "execution_count": null,
      "id": "23aad8fe",
      "metadata": {
        "tags": [],
        "id": "23aad8fe",
        "outputId": "40b66aa3-39d7-4eb4-f046-90b5defdb758"
      },
      "outputs": [
        {
          "name": "stdout",
          "output_type": "stream",
          "text": [
            "[tensor([1.]), tensor([2.]), tensor([3.]), tensor([4.])]\n"
          ]
        }
      ],
      "source": [
        "# Each worker's initial value is its rank, and then each rank's value is incremented by 1, so the values obtained on each rank are [1, 2, 3, 4]\n",
        "class_with_args = RayClassWithInitArgs(cls=GPUAccumulator)\n",
        "worker_group = RayWorkerGroup(resource_pool, class_with_args)\n",
        "print(worker_group.execute_all_sync(\"add\", x=[1, 1, 1, 1]))"
      ]
    },
    {
      "cell_type": "markdown",
      "id": "e6705284",
      "metadata": {
        "id": "e6705284"
      },
      "source": [
        "The principle of parameter passing: The input parameter is a list of length world_size, where each element in the list is dispatched respectively to each worker in the RayWorkerGroup.\n",
        "The return parameter is also a list, corresponding to the return value of each worker."
      ]
    },
    {
      "cell_type": "markdown",
      "id": "d25c2412",
      "metadata": {
        "id": "d25c2412"
      },
      "source": [
        "### GPU Resource Sharing"
      ]
    },
    {
      "cell_type": "markdown",
      "id": "f74f6d24",
      "metadata": {
        "id": "f74f6d24"
      },
      "source": [
        "RayWorkerGroups mapped to the same resource pool share the GPU. In this example, we implement three resource pools: the first occupies 4 GPUs, the second also occupies 4 GPUs, and the last occupies all 8 GPUs. Among them, the first resource pool reuses the resource pool mentioned above."
      ]
    },
    {
      "cell_type": "code",
      "execution_count": null,
      "id": "49f9c06f",
      "metadata": {
        "tags": [],
        "id": "49f9c06f"
      },
      "outputs": [],
      "source": [
        "# Create a new resource pool and then merge the newly created resource pool with the previous one.\n",
        "resource_pool_1 = RayResourcePool([4], use_gpu=True, name_prefix=\"a\")\n",
        "resource_pool_merge = merge_resource_pool(resource_pool, resource_pool_1)"
      ]
    },
    {
      "cell_type": "code",
      "execution_count": null,
      "id": "05c2e305",
      "metadata": {
        "tags": [],
        "id": "05c2e305"
      },
      "outputs": [],
      "source": [
        "# Establish a RayWorkerGroup on the newly created resource pool.\n",
        "worker_group_1 = RayWorkerGroup(resource_pool_1, class_with_args)\n",
        "worker_group_merge = RayWorkerGroup(resource_pool_merge, class_with_args)"
      ]
    },
    {
      "cell_type": "code",
      "execution_count": null,
      "id": "6b9b13f4",
      "metadata": {
        "tags": [],
        "id": "6b9b13f4",
        "outputId": "2a117f5f-3df0-4051-b3d6-740c5a24af0c"
      },
      "outputs": [
        {
          "name": "stdout",
          "output_type": "stream",
          "text": [
            "[tensor([2.]), tensor([3.]), tensor([4.]), tensor([5.])]\n"
          ]
        }
      ],
      "source": [
        "# Run 'add' on the second set of 4 GPUs; the result should be [2, 3, 4, 5].\n",
        "output_1 = worker_group_1.execute_all_sync(\"add\", x=[2, 2, 2, 2])\n",
        "print(output_1)"
      ]
    },
    {
      "cell_type": "code",
      "execution_count": null,
      "id": "d856d030",
      "metadata": {
        "tags": [],
        "id": "d856d030",
        "outputId": "1b295e6b-8dae-4a09-c256-befdbf9e3cbf"
      },
      "outputs": [
        {
          "name": "stdout",
          "output_type": "stream",
          "text": [
            "[tensor([3.]), tensor([4.]), tensor([5.]), tensor([6.]), tensor([7.]), tensor([8.]), tensor([9.]), tensor([10.])]\n"
          ]
        }
      ],
      "source": [
        "# Run 'add' on the merged set of 8 GPUs; the result should be [3, 4, 5, 6, 7, 8, 9, 10].\n",
        "output_merge = worker_group_merge.execute_all_sync(\"add\", x=[3, 3, 3, 3, 3, 3, 3, 3])\n",
        "print(output_merge)"
      ]
    },
    {
      "cell_type": "code",
      "execution_count": null,
      "id": "33a4628c",
      "metadata": {
        "tags": [],
        "id": "33a4628c",
        "outputId": "6e708ad6-7a0a-400c-e87a-42a2c715209f"
      },
      "outputs": [
        {
          "name": "stdout",
          "output_type": "stream",
          "text": [
            "4 4 8\n"
          ]
        }
      ],
      "source": [
        "print(worker_group.world_size, worker_group_1.world_size, worker_group_merge.world_size)"
      ]
    },
    {
      "cell_type": "markdown",
      "id": "3df19d13",
      "metadata": {
        "id": "3df19d13"
      },
      "source": [
        "## Chapter 3: Data Dispatch, Execution and Collection"
      ]
    },
    {
      "cell_type": "markdown",
      "id": "acb22d9d",
      "metadata": {
        "id": "acb22d9d"
      },
      "source": [
        "In the above example, we used the `execute_all_sync` function in the RayWorkerGroup to dispatch data from the driver to each worker. This is very inconvenient for coding.\n",
        "In this chapter, we use the form of function decorators to allow RayWorkerGroup to directly call functions written in the Worker, and to greatly simplify parameter passing."
      ]
    },
    {
      "cell_type": "code",
      "execution_count": null,
      "id": "35237432",
      "metadata": {
        "tags": [],
        "id": "35237432"
      },
      "outputs": [],
      "source": [
        "from verl.single_controller.base.decorator import Dispatch, Execute, register"
      ]
    },
    {
      "cell_type": "code",
      "execution_count": null,
      "id": "88b8ba3b",
      "metadata": {
        "tags": [],
        "id": "88b8ba3b"
      },
      "outputs": [],
      "source": [
        "@ray.remote\n",
        "class GPUAccumulatorDecorator(Worker):\n",
        "    def __init__(self) -> None:\n",
        "        super().__init__()\n",
        "        # The initial value of each rank is the same as the rank\n",
        "        self.value = torch.zeros(size=(1,), device=\"cuda\") + self.rank\n",
        "\n",
        "    # map from a single input to all the worker\n",
        "    @register(Dispatch.ONE_TO_ALL)\n",
        "    def add(self, x):\n",
        "        print(x)\n",
        "        self.value = self.value + x\n",
        "        print(f\"rank {self.rank}, value: {self.value}\")\n",
        "        return self.value.cpu()"
      ]
    },
    {
      "cell_type": "code",
      "execution_count": null,
      "id": "eddaa043",
      "metadata": {
        "tags": [],
        "id": "eddaa043"
      },
      "outputs": [],
      "source": [
        "class_with_args = RayClassWithInitArgs(cls=GPUAccumulatorDecorator)\n",
        "gpu_accumulator_decorator = RayWorkerGroup(resource_pool_merge, class_with_args)"
      ]
    },
    {
      "cell_type": "code",
      "execution_count": null,
      "id": "10087c91",
      "metadata": {
        "tags": [],
        "id": "10087c91",
        "outputId": "4314d9c7-d96c-44a8-a38a-449b13ef1b03"
      },
      "outputs": [
        {
          "name": "stdout",
          "output_type": "stream",
          "text": [
            "[tensor([10.]), tensor([11.]), tensor([12.]), tensor([13.]), tensor([14.]), tensor([15.]), tensor([16.]), tensor([17.])]\n"
          ]
        }
      ],
      "source": [
        "# As we can see, 10 is automatically dispatched to each Worker in this RayWorkerGroup.\n",
        "print(gpu_accumulator_decorator.add(x=10))"
      ]
    },
    {
      "cell_type": "markdown",
      "id": "540ee6ad",
      "metadata": {
        "id": "540ee6ad"
      },
      "source": [
        "### Custom Dispatch, Collection\n",
        "Users can customize `dispatch` and `collection` function. You only need to write the `dispatch_fn` and `collect_fn` functions yourself. We also support executing RPC only on rank_zero, with specific examples provided below."
      ]
    },
    {
      "cell_type": "code",
      "execution_count": null,
      "id": "8e041270",
      "metadata": {
        "tags": [],
        "id": "8e041270"
      },
      "outputs": [],
      "source": [
        "from verl.single_controller.base.decorator import Dispatch, collect_all_to_all, register"
      ]
    },
    {
      "cell_type": "code",
      "execution_count": null,
      "id": "43b5be31",
      "metadata": {
        "tags": [],
        "id": "43b5be31"
      },
      "outputs": [],
      "source": [
        "def two_to_all_dispatch_fn(worker_group, *args, **kwargs):\n",
        "    \"\"\"\n",
        "    Assume the input is a list of 2. Duplicate the input interleaved and pass to each worker.\n",
        "    \"\"\"\n",
        "    for arg in args:\n",
        "        assert len(arg) == 2\n",
        "        for i in range(worker_group.world_size - 2):\n",
        "            arg.append(arg[i % 2])\n",
        "    for k, v in kwargs.items():\n",
        "        assert len(v) == 2\n",
        "        for i in range(worker_group.world_size - 2):\n",
        "            v.append(v[i % 2])\n",
        "    return args, kwargs\n",
        "\n",
        "\n",
        "@ray.remote\n",
        "class TestActor(Worker):\n",
        "    # TODO: pass *args and **kwargs is bug prone and not very convincing\n",
        "    def __init__(self, x) -> None:\n",
        "        super().__init__()\n",
        "        self._x = x\n",
        "\n",
        "    def foo(self, y):\n",
        "        return self._x + y\n",
        "\n",
        "    @register(dispatch_mode=Dispatch.ALL_TO_ALL, execute_mode=Execute.RANK_ZERO)\n",
        "    def foo_rank_zero(self, x, y):\n",
        "        return self._x + y + x\n",
        "\n",
        "    @register(dispatch_mode={\"dispatch_fn\": two_to_all_dispatch_fn, \"collect_fn\": collect_all_to_all})\n",
        "    def foo_custom(self, x, y):\n",
        "        return self._x + y + x"
      ]
    },
    {
      "cell_type": "code",
      "execution_count": null,
      "id": "83ec6609",
      "metadata": {
        "tags": [],
        "id": "83ec6609"
      },
      "outputs": [],
      "source": [
        "class_with_args = RayClassWithInitArgs(cls=TestActor, x=2)\n",
        "worker_group = RayWorkerGroup(resource_pool, class_with_args)"
      ]
    },
    {
      "cell_type": "code",
      "execution_count": null,
      "id": "62c58d8a",
      "metadata": {
        "tags": [],
        "id": "62c58d8a"
      },
      "outputs": [],
      "source": [
        "output_ref = worker_group.foo_custom(x=[1, 2], y=[5, 6])\n",
        "assert output_ref == [8, 10, 8, 10]\n",
        "\n",
        "output_ref = worker_group.foo_rank_zero(x=1, y=2)\n",
        "assert output_ref == 5"
      ]
    },
    {
      "cell_type": "code",
      "execution_count": null,
      "id": "14689353",
      "metadata": {
        "tags": [],
        "id": "14689353",
        "outputId": "04167181-2fad-4dd0-b778-f92adbebb02c"
      },
      "outputs": [
        {
          "name": "stdout",
          "output_type": "stream",
          "text": [
            "8\n"
          ]
        }
      ],
      "source": [
        "print(gpu_accumulator_decorator.world_size)"
      ]
    },
    {
      "cell_type": "code",
      "execution_count": null,
      "id": "2c80bbf4",
      "metadata": {
        "tags": [],
        "id": "2c80bbf4"
      },
      "outputs": [],
      "source": [
        "# Shutdown ray cluster\n",
        "ray.shutdown()"
      ]
    },
    {
      "cell_type": "markdown",
      "id": "a5c8151c",
      "metadata": {
        "id": "a5c8151c"
      },
      "source": [
        "## Chapter 4: NVMegatronRayWorkerGroup"
      ]
    },
    {
      "cell_type": "markdown",
      "id": "cd5680e9",
      "metadata": {
        "id": "cd5680e9"
      },
      "source": [
        "Due to the Ray issue, we can only support max_colocate_count=1 in RayResourcePool for now.\n",
        "This means that each GPU can only have one process.\n",
        "We can support max_colocate > 1 when applying this pull request: https://github.com/ray-project/ray/pull/44385"
      ]
    },
    {
      "cell_type": "markdown",
      "id": "92724419",
      "metadata": {
        "id": "92724419"
      },
      "source": [
        "Therefore, we need to restart the ray and initialize a new resource_pool to demonstrate the **NVMegatronRayWorkerGroup**"
      ]
    },
    {
      "cell_type": "code",
      "execution_count": null,
      "id": "9b038538",
      "metadata": {
        "tags": [],
        "id": "9b038538"
      },
      "outputs": [],
      "source": [
        "# Build a local ray cluster. The head node and worker node are on this machine\n",
        "ray.init()"
      ]
    },
    {
      "cell_type": "markdown",
      "id": "ebfd8798",
      "metadata": {
        "id": "ebfd8798"
      },
      "source": [
        "Finally, we implement a `NVMegatronRayWorkerGroup`, within which we create a Megatron and then run a tensor parallel (tp) split Llama mlp layer. Here, we use a complex dispatch mode, `Megatron_COMPUTE`. This dispatch mode assumes that user passes the data partitioned by DP dimension. The data is dispatched to all tp/pp ranks within the same dp group, and ultimately only collects output data from tp=0 and the last pp. In this way, for users that only write code on the driver, the Megatron behind the RPC becomes transparent."
      ]
    },
    {
      "cell_type": "code",
      "execution_count": null,
      "id": "5a032154",
      "metadata": {
        "tags": [],
        "id": "5a032154",
        "outputId": "0704bdfe-a47b-43ee-fe7c-5709b032409c"
      },
      "outputs": [
        {
          "name": "stdout",
          "output_type": "stream",
          "text": [
            "/opt/tiger/Megatron-LM\n",
            "/opt/tiger/Megatron-LM/megatron/__init__.py\n"
          ]
        }
      ],
      "source": [
        "import sys\n",
        "\n",
        "current_pythonpath = os.environ.get(\"PYTHONPATH\", \"\")\n",
        "\n",
        "new_path = \"/opt/tiger/Megatron-LM\"\n",
        "\n",
        "new_pythonpath = f\"{new_path}:{current_pythonpath}\" if current_pythonpath else new_path\n",
        "\n",
        "os.environ[\"PYTHONPATH\"] = new_pythonpath\n",
        "\n",
        "print(new_path)\n",
        "sys.path.append(new_path)\n",
        "\n",
        "import megatron\n",
        "\n",
        "print(megatron.__file__)"
      ]
    },
    {
      "cell_type": "code",
      "execution_count": null,
      "id": "8c84cd5a",
      "metadata": {
        "tags": [],
        "id": "8c84cd5a"
      },
      "outputs": [],
      "source": [
        "from megatron.core import parallel_state as mpu\n",
        "from omegaconf import OmegaConf\n",
        "\n",
        "from verl.single_controller.base.decorator import Dispatch, Execute, register\n",
        "from verl.single_controller.base.megatron.worker import MegatronWorker\n",
        "from verl.single_controller.ray.base import RayClassWithInitArgs, RayResourcePool, RayWorkerGroup\n",
        "from verl.single_controller.ray.megatron import NVMegatronRayWorkerGroup"
      ]
    },
    {
      "cell_type": "code",
      "execution_count": null,
      "id": "1b1debcc",
      "metadata": {
        "tags": [],
        "id": "1b1debcc"
      },
      "outputs": [],
      "source": [
        "resource_pool = RayResourcePool([4], use_gpu=True, max_colocate_count=1)"
      ]
    },
    {
      "cell_type": "code",
      "execution_count": null,
      "id": "bccbe081",
      "metadata": {
        "tags": [],
        "id": "bccbe081"
      },
      "outputs": [],
      "source": [
        "@ray.remote\n",
        "class MLPLayerWorker(MegatronWorker):\n",
        "    def __init__(self):\n",
        "        super().__init__()\n",
        "        rank = int(os.environ[\"LOCAL_RANK\"])\n",
        "        torch.distributed.init_process_group(backend=\"nccl\")\n",
        "        torch.cuda.set_device(rank)\n",
        "\n",
        "        mpu.initialize_model_parallel(\n",
        "            tensor_model_parallel_size=4,\n",
        "            pipeline_model_parallel_size=1,\n",
        "            virtual_pipeline_model_parallel_size=None,\n",
        "            pipeline_model_parallel_split_rank=None,\n",
        "            use_sharp=False,\n",
        "            context_parallel_size=1,\n",
        "            expert_model_parallel_size=1,\n",
        "            nccl_communicator_config_path=None,\n",
        "        )\n",
        "        from megatron.core import tensor_parallel\n",
        "\n",
        "        tensor_parallel.model_parallel_cuda_manual_seed(10)\n",
        "\n",
        "    @register(Dispatch.ONE_TO_ALL)\n",
        "    def init_model(self, config):\n",
        "        from omegaconf import OmegaConf\n",
        "\n",
        "        from verl.models.llama.megatron.layers import ParallelLlamaMLP\n",
        "        from verl.utils.megatron_utils import init_model_parallel_config\n",
        "\n",
        "        megatron_config = OmegaConf.create(\n",
        "            {\n",
        "                \"sequence_parallel\": False,\n",
        "                \"param_dtype\": \"fp32\",\n",
        "                \"tensor_model_parallel_size\": mpu.get_tensor_model_parallel_world_size(),\n",
        "                \"pipeline_model_parallel_rank\": mpu.get_pipeline_model_parallel_rank(),\n",
        "                \"pipeline_model_parallel_size\": mpu.get_pipeline_model_parallel_world_size(),\n",
        "                \"virtual_pipeline_model_parallel_rank\": mpu.get_virtual_pipeline_model_parallel_rank(),\n",
        "                \"virtual_pipeline_model_parallel_size\": mpu.get_virtual_pipeline_model_parallel_world_size(),\n",
        "            }\n",
        "        )\n",
        "\n",
        "        megatron_config = init_model_parallel_config(megatron_config)\n",
        "        self.parallel_layer = ParallelLlamaMLP(config=config, megatron_config=megatron_config)\n",
        "\n",
        "    @register(Dispatch.ONE_TO_ALL)\n",
        "    def get_weights(self):\n",
        "        output = {}\n",
        "        for key, val in self.parallel_layer.named_parameters():\n",
        "            output[key] = val\n",
        "        return output\n",
        "\n",
        "    @register(Dispatch.MEGATRON_COMPUTE)\n",
        "    def run_layer(self, x):\n",
        "        x = x.to(\"cuda\")\n",
        "        y = self.parallel_layer(x)\n",
        "        return y"
      ]
    },
    {
      "cell_type": "code",
      "execution_count": null,
      "id": "a655271d",
      "metadata": {
        "tags": [],
        "id": "a655271d"
      },
      "outputs": [],
      "source": [
        "layer_cls = RayClassWithInitArgs(cls=MLPLayerWorker)\n",
        "layer_worker_group = NVMegatronRayWorkerGroup(\n",
        "    resource_pool=resource_pool,\n",
        "    ray_cls_with_init=layer_cls,\n",
        ")"
      ]
    },
    {
      "cell_type": "code",
      "execution_count": null,
      "id": "f105ebee",
      "metadata": {
        "tags": [],
        "id": "f105ebee",
        "outputId": "b4bc9358-6054-4ec9-a24d-96eef269bd17"
      },
      "outputs": [
        {
          "name": "stdout",
          "output_type": "stream",
          "text": [
            "4 4 1 1\n"
          ]
        }
      ],
      "source": [
        "print(layer_worker_group.world_size, layer_worker_group.tp_size, layer_worker_group.pp_size, layer_worker_group.dp_size)"
      ]
    },
    {
      "cell_type": "code",
      "execution_count": null,
      "id": "38655091",
      "metadata": {
        "tags": [],
        "id": "38655091"
      },
      "outputs": [],
      "source": [
        "ffn_hidden_size = 11008\n",
        "batch_size = 16\n",
        "seq_len = 2048\n",
        "hidden_size = 4096\n",
        "\n",
        "config = OmegaConf.create(\n",
        "    {\n",
        "        \"hidden_size\": hidden_size,\n",
        "        \"intermediate_size\": ffn_hidden_size,\n",
        "        \"hidden_act\": \"silu\",\n",
        "        \"pretraining_tp\": 1,\n",
        "        \"tp\": layer_worker_group.tp_size,\n",
        "    }\n",
        ")"
      ]
    },
    {
      "cell_type": "code",
      "execution_count": null,
      "id": "a026efca",
      "metadata": {
        "tags": [],
        "id": "a026efca"
      },
      "outputs": [],
      "source": [
        "x = torch.rand(size=(seq_len, batch_size, hidden_size), dtype=torch.float32)"
      ]
    },
    {
      "cell_type": "code",
      "execution_count": null,
      "id": "f5fcaf13",
      "metadata": {
        "tags": [],
        "id": "f5fcaf13",
        "outputId": "6891a089-729a-4eb3-991f-804ff27fcf86"
      },
      "outputs": [
        {
          "data": {
            "text/plain": [
              "[None, None, None, None]"
            ]
          },
          "execution_count": 179,
          "metadata": {},
          "output_type": "execute_result"
        }
      ],
      "source": [
        "layer_worker_group.init_model(config)"
      ]
    },
    {
      "cell_type": "code",
      "execution_count": null,
      "id": "3f5cc9b4",
      "metadata": {
        "tags": [],
        "id": "3f5cc9b4",
        "outputId": "e0b54801-0934-4d82-b4fc-65fde501f184"
      },
      "outputs": [
        {
          "name": "stdout",
          "output_type": "stream",
          "text": [
            "torch.Size([2048, 16, 4096])\n"
          ]
        }
      ],
      "source": [
        "output = layer_worker_group.run_layer(\n",
        "    [x]\n",
        ")  # This must be a list of size 1, ensuring that the input equals the data parallel (dp).\n",
        "print(output[0].shape)"
      ]
    },
    {
      "cell_type": "code",
      "execution_count": null,
      "id": "49792210",
      "metadata": {
        "tags": [],
        "id": "49792210"
      },
      "outputs": [],
      "source": [
        "# Shutdown ray cluster\n",
        "ray.shutdown()"
      ]
    }
  ],
  "metadata": {
    "kernelspec": {
      "display_name": "Python 3",
      "name": "python3"
    },
    "language_info": {
      "codemirror_mode": {
        "name": "ipython",
        "version": 3
      },
      "file_extension": ".py",
      "mimetype": "text/x-python",
      "name": "python",
      "nbconvert_exporter": "python",
      "pygments_lexer": "ipython3",
      "version": "3.9.2"
    },
    "colab": {
      "provenance": [],
      "gpuType": "T4"
    },
    "accelerator": "GPU",
    "widgets": {
      "application/vnd.jupyter.widget-state+json": {
        "5607d02984e44674be0afc595465126b": {
          "model_module": "@jupyter-widgets/controls",
          "model_name": "HBoxModel",
          "model_module_version": "1.5.0",
          "state": {
            "_dom_classes": [],
            "_model_module": "@jupyter-widgets/controls",
            "_model_module_version": "1.5.0",
            "_model_name": "HBoxModel",
            "_view_count": null,
            "_view_module": "@jupyter-widgets/controls",
            "_view_module_version": "1.5.0",
            "_view_name": "HBoxView",
            "box_style": "",
            "children": [
              "IPY_MODEL_0ab6d8da9a5142c5a16ce9e86b583056",
              "IPY_MODEL_5e4da980bca6431487d7f8c893ca8a57",
              "IPY_MODEL_21508fa2ddb54bff92cf9660e6d245a5"
            ],
            "layout": "IPY_MODEL_142170e7d23d49a788d8537b086e68e3"
          }
        },
        "0ab6d8da9a5142c5a16ce9e86b583056": {
          "model_module": "@jupyter-widgets/controls",
          "model_name": "HTMLModel",
          "model_module_version": "1.5.0",
          "state": {
            "_dom_classes": [],
            "_model_module": "@jupyter-widgets/controls",
            "_model_module_version": "1.5.0",
            "_model_name": "HTMLModel",
            "_view_count": null,
            "_view_module": "@jupyter-widgets/controls",
            "_view_module_version": "1.5.0",
            "_view_name": "HTMLView",
            "description": "",
            "description_tooltip": null,
            "layout": "IPY_MODEL_b5cfa9f945ed4aa4965bb65abbdecae4",
            "placeholder": "​",
            "style": "IPY_MODEL_fa43c3090cbc4ca5ac5533c47470c0ac",
            "value": "✔️  Dataset dataset_6_0 execution finished in 132.51 seconds: 100%"
          }
        },
        "5e4da980bca6431487d7f8c893ca8a57": {
          "model_module": "@jupyter-widgets/controls",
          "model_name": "FloatProgressModel",
          "model_module_version": "1.5.0",
          "state": {
            "_dom_classes": [],
            "_model_module": "@jupyter-widgets/controls",
            "_model_module_version": "1.5.0",
            "_model_name": "FloatProgressModel",
            "_view_count": null,
            "_view_module": "@jupyter-widgets/controls",
            "_view_module_version": "1.5.0",
            "_view_name": "ProgressView",
            "bar_style": "success",
            "description": "",
            "description_tooltip": null,
            "layout": "IPY_MODEL_251c62c7bc884cbfbccd7ea5c5ab4846",
            "max": 1,
            "min": 0,
            "orientation": "horizontal",
            "style": "IPY_MODEL_d5b946357f694815a232e864bc441d74",
            "value": 1
          }
        },
        "21508fa2ddb54bff92cf9660e6d245a5": {
          "model_module": "@jupyter-widgets/controls",
          "model_name": "HTMLModel",
          "model_module_version": "1.5.0",
          "state": {
            "_dom_classes": [],
            "_model_module": "@jupyter-widgets/controls",
            "_model_module_version": "1.5.0",
            "_model_name": "HTMLModel",
            "_view_count": null,
            "_view_module": "@jupyter-widgets/controls",
            "_view_module_version": "1.5.0",
            "_view_name": "HTMLView",
            "description": "",
            "description_tooltip": null,
            "layout": "IPY_MODEL_15138d8c16e14de4bba89f1615a7fd55",
            "placeholder": "​",
            "style": "IPY_MODEL_f78a4bc39ddc4fdcaa7120769b900550",
            "value": " 1.00/1.00 [02:12&lt;00:00, 31.4s/ row]"
          }
        },
        "142170e7d23d49a788d8537b086e68e3": {
          "model_module": "@jupyter-widgets/base",
          "model_name": "LayoutModel",
          "model_module_version": "1.2.0",
          "state": {
            "_model_module": "@jupyter-widgets/base",
            "_model_module_version": "1.2.0",
            "_model_name": "LayoutModel",
            "_view_count": null,
            "_view_module": "@jupyter-widgets/base",
            "_view_module_version": "1.2.0",
            "_view_name": "LayoutView",
            "align_content": null,
            "align_items": null,
            "align_self": null,
            "border": null,
            "bottom": null,
            "display": "inline-flex",
            "flex": null,
            "flex_flow": "row wrap",
            "grid_area": null,
            "grid_auto_columns": null,
            "grid_auto_flow": null,
            "grid_auto_rows": null,
            "grid_column": null,
            "grid_gap": null,
            "grid_row": null,
            "grid_template_areas": null,
            "grid_template_columns": null,
            "grid_template_rows": null,
            "height": null,
            "justify_content": null,
            "justify_items": null,
            "left": null,
            "margin": null,
            "max_height": null,
            "max_width": null,
            "min_height": null,
            "min_width": null,
            "object_fit": null,
            "object_position": null,
            "order": null,
            "overflow": null,
            "overflow_x": null,
            "overflow_y": null,
            "padding": null,
            "right": null,
            "top": null,
            "visibility": null,
            "width": "100%"
          }
        },
        "b5cfa9f945ed4aa4965bb65abbdecae4": {
          "model_module": "@jupyter-widgets/base",
          "model_name": "LayoutModel",
          "model_module_version": "1.2.0",
          "state": {
            "_model_module": "@jupyter-widgets/base",
            "_model_module_version": "1.2.0",
            "_model_name": "LayoutModel",
            "_view_count": null,
            "_view_module": "@jupyter-widgets/base",
            "_view_module_version": "1.2.0",
            "_view_name": "LayoutView",
            "align_content": null,
            "align_items": null,
            "align_self": null,
            "border": null,
            "bottom": null,
            "display": null,
            "flex": null,
            "flex_flow": null,
            "grid_area": null,
            "grid_auto_columns": null,
            "grid_auto_flow": null,
            "grid_auto_rows": null,
            "grid_column": null,
            "grid_gap": null,
            "grid_row": null,
            "grid_template_areas": null,
            "grid_template_columns": null,
            "grid_template_rows": null,
            "height": null,
            "justify_content": null,
            "justify_items": null,
            "left": null,
            "margin": null,
            "max_height": null,
            "max_width": null,
            "min_height": null,
            "min_width": null,
            "object_fit": null,
            "object_position": null,
            "order": null,
            "overflow": null,
            "overflow_x": null,
            "overflow_y": null,
            "padding": null,
            "right": null,
            "top": null,
            "visibility": null,
            "width": null
          }
        },
        "fa43c3090cbc4ca5ac5533c47470c0ac": {
          "model_module": "@jupyter-widgets/controls",
          "model_name": "DescriptionStyleModel",
          "model_module_version": "1.5.0",
          "state": {
            "_model_module": "@jupyter-widgets/controls",
            "_model_module_version": "1.5.0",
            "_model_name": "DescriptionStyleModel",
            "_view_count": null,
            "_view_module": "@jupyter-widgets/base",
            "_view_module_version": "1.2.0",
            "_view_name": "StyleView",
            "description_width": ""
          }
        },
        "251c62c7bc884cbfbccd7ea5c5ab4846": {
          "model_module": "@jupyter-widgets/base",
          "model_name": "LayoutModel",
          "model_module_version": "1.2.0",
          "state": {
            "_model_module": "@jupyter-widgets/base",
            "_model_module_version": "1.2.0",
            "_model_name": "LayoutModel",
            "_view_count": null,
            "_view_module": "@jupyter-widgets/base",
            "_view_module_version": "1.2.0",
            "_view_name": "LayoutView",
            "align_content": null,
            "align_items": null,
            "align_self": null,
            "border": null,
            "bottom": null,
            "display": null,
            "flex": "2",
            "flex_flow": null,
            "grid_area": null,
            "grid_auto_columns": null,
            "grid_auto_flow": null,
            "grid_auto_rows": null,
            "grid_column": null,
            "grid_gap": null,
            "grid_row": null,
            "grid_template_areas": null,
            "grid_template_columns": null,
            "grid_template_rows": null,
            "height": null,
            "justify_content": null,
            "justify_items": null,
            "left": null,
            "margin": null,
            "max_height": null,
            "max_width": null,
            "min_height": null,
            "min_width": null,
            "object_fit": null,
            "object_position": null,
            "order": null,
            "overflow": null,
            "overflow_x": null,
            "overflow_y": null,
            "padding": null,
            "right": null,
            "top": null,
            "visibility": null,
            "width": null
          }
        },
        "d5b946357f694815a232e864bc441d74": {
          "model_module": "@jupyter-widgets/controls",
          "model_name": "ProgressStyleModel",
          "model_module_version": "1.5.0",
          "state": {
            "_model_module": "@jupyter-widgets/controls",
            "_model_module_version": "1.5.0",
            "_model_name": "ProgressStyleModel",
            "_view_count": null,
            "_view_module": "@jupyter-widgets/base",
            "_view_module_version": "1.2.0",
            "_view_name": "StyleView",
            "bar_color": null,
            "description_width": ""
          }
        },
        "15138d8c16e14de4bba89f1615a7fd55": {
          "model_module": "@jupyter-widgets/base",
          "model_name": "LayoutModel",
          "model_module_version": "1.2.0",
          "state": {
            "_model_module": "@jupyter-widgets/base",
            "_model_module_version": "1.2.0",
            "_model_name": "LayoutModel",
            "_view_count": null,
            "_view_module": "@jupyter-widgets/base",
            "_view_module_version": "1.2.0",
            "_view_name": "LayoutView",
            "align_content": null,
            "align_items": null,
            "align_self": null,
            "border": null,
            "bottom": null,
            "display": null,
            "flex": null,
            "flex_flow": null,
            "grid_area": null,
            "grid_auto_columns": null,
            "grid_auto_flow": null,
            "grid_auto_rows": null,
            "grid_column": null,
            "grid_gap": null,
            "grid_row": null,
            "grid_template_areas": null,
            "grid_template_columns": null,
            "grid_template_rows": null,
            "height": null,
            "justify_content": null,
            "justify_items": null,
            "left": null,
            "margin": null,
            "max_height": null,
            "max_width": null,
            "min_height": null,
            "min_width": null,
            "object_fit": null,
            "object_position": null,
            "order": null,
            "overflow": null,
            "overflow_x": null,
            "overflow_y": null,
            "padding": null,
            "right": null,
            "top": null,
            "visibility": null,
            "width": null
          }
        },
        "f78a4bc39ddc4fdcaa7120769b900550": {
          "model_module": "@jupyter-widgets/controls",
          "model_name": "DescriptionStyleModel",
          "model_module_version": "1.5.0",
          "state": {
            "_model_module": "@jupyter-widgets/controls",
            "_model_module_version": "1.5.0",
            "_model_name": "DescriptionStyleModel",
            "_view_count": null,
            "_view_module": "@jupyter-widgets/base",
            "_view_module_version": "1.2.0",
            "_view_name": "StyleView",
            "description_width": ""
          }
        },
        "17aea86a85eb4141b1f79a3f306924d4": {
          "model_module": "@jupyter-widgets/controls",
          "model_name": "HBoxModel",
          "model_module_version": "1.5.0",
          "state": {
            "_dom_classes": [],
            "_model_module": "@jupyter-widgets/controls",
            "_model_module_version": "1.5.0",
            "_model_name": "HBoxModel",
            "_view_count": null,
            "_view_module": "@jupyter-widgets/controls",
            "_view_module_version": "1.5.0",
            "_view_name": "HBoxView",
            "box_style": "",
            "children": [
              "IPY_MODEL_0e94e9ae012d4f30aed51c6bdd1f1bc1",
              "IPY_MODEL_47bd556b2f424774815fbf0380aab1da",
              "IPY_MODEL_d0d7447832aa4dd98d9a9fe502622624"
            ],
            "layout": "IPY_MODEL_0c9439664f3842a0865e0994b410350e"
          }
        },
        "0e94e9ae012d4f30aed51c6bdd1f1bc1": {
          "model_module": "@jupyter-widgets/controls",
          "model_name": "HTMLModel",
          "model_module_version": "1.5.0",
          "state": {
            "_dom_classes": [],
            "_model_module": "@jupyter-widgets/controls",
            "_model_module_version": "1.5.0",
            "_model_name": "HTMLModel",
            "_view_count": null,
            "_view_module": "@jupyter-widgets/controls",
            "_view_module_version": "1.5.0",
            "_view_name": "HTMLView",
            "description": "",
            "description_tooltip": null,
            "layout": "IPY_MODEL_adb27d2a8132498db90952ccf9a229a5",
            "placeholder": "​",
            "style": "IPY_MODEL_c44131e9bda24a5e9d7f9dde499922ab",
            "value": "- ReadImage: Tasks: 0; Actors: 0; Queued blocks: 0; Resources: 0.0 CPU, 56.4MB object store: 100%"
          }
        },
        "47bd556b2f424774815fbf0380aab1da": {
          "model_module": "@jupyter-widgets/controls",
          "model_name": "FloatProgressModel",
          "model_module_version": "1.5.0",
          "state": {
            "_dom_classes": [],
            "_model_module": "@jupyter-widgets/controls",
            "_model_module_version": "1.5.0",
            "_model_name": "FloatProgressModel",
            "_view_count": null,
            "_view_module": "@jupyter-widgets/controls",
            "_view_module_version": "1.5.0",
            "_view_name": "ProgressView",
            "bar_style": "success",
            "description": "",
            "description_tooltip": null,
            "layout": "IPY_MODEL_18c4c617fd334559bde882b1687514ba",
            "max": 1,
            "min": 0,
            "orientation": "horizontal",
            "style": "IPY_MODEL_d5619cd589ef46ad8eb1cdef4dc91c05",
            "value": 1
          }
        },
        "d0d7447832aa4dd98d9a9fe502622624": {
          "model_module": "@jupyter-widgets/controls",
          "model_name": "HTMLModel",
          "model_module_version": "1.5.0",
          "state": {
            "_dom_classes": [],
            "_model_module": "@jupyter-widgets/controls",
            "_model_module_version": "1.5.0",
            "_model_name": "HTMLModel",
            "_view_count": null,
            "_view_module": "@jupyter-widgets/controls",
            "_view_module_version": "1.5.0",
            "_view_name": "HTMLView",
            "description": "",
            "description_tooltip": null,
            "layout": "IPY_MODEL_fcab970132234916a509300b73873d5f",
            "placeholder": "​",
            "style": "IPY_MODEL_50355d3221cd4ccc807417fb66f4b940",
            "value": " 2.88k/2.88k [02:12&lt;00:00, 28.2 row/s]"
          }
        },
        "0c9439664f3842a0865e0994b410350e": {
          "model_module": "@jupyter-widgets/base",
          "model_name": "LayoutModel",
          "model_module_version": "1.2.0",
          "state": {
            "_model_module": "@jupyter-widgets/base",
            "_model_module_version": "1.2.0",
            "_model_name": "LayoutModel",
            "_view_count": null,
            "_view_module": "@jupyter-widgets/base",
            "_view_module_version": "1.2.0",
            "_view_name": "LayoutView",
            "align_content": null,
            "align_items": null,
            "align_self": null,
            "border": null,
            "bottom": null,
            "display": "inline-flex",
            "flex": null,
            "flex_flow": "row wrap",
            "grid_area": null,
            "grid_auto_columns": null,
            "grid_auto_flow": null,
            "grid_auto_rows": null,
            "grid_column": null,
            "grid_gap": null,
            "grid_row": null,
            "grid_template_areas": null,
            "grid_template_columns": null,
            "grid_template_rows": null,
            "height": null,
            "justify_content": null,
            "justify_items": null,
            "left": null,
            "margin": null,
            "max_height": null,
            "max_width": null,
            "min_height": null,
            "min_width": null,
            "object_fit": null,
            "object_position": null,
            "order": null,
            "overflow": null,
            "overflow_x": null,
            "overflow_y": null,
            "padding": null,
            "right": null,
            "top": null,
            "visibility": null,
            "width": "100%"
          }
        },
        "adb27d2a8132498db90952ccf9a229a5": {
          "model_module": "@jupyter-widgets/base",
          "model_name": "LayoutModel",
          "model_module_version": "1.2.0",
          "state": {
            "_model_module": "@jupyter-widgets/base",
            "_model_module_version": "1.2.0",
            "_model_name": "LayoutModel",
            "_view_count": null,
            "_view_module": "@jupyter-widgets/base",
            "_view_module_version": "1.2.0",
            "_view_name": "LayoutView",
            "align_content": null,
            "align_items": null,
            "align_self": null,
            "border": null,
            "bottom": null,
            "display": null,
            "flex": null,
            "flex_flow": null,
            "grid_area": null,
            "grid_auto_columns": null,
            "grid_auto_flow": null,
            "grid_auto_rows": null,
            "grid_column": null,
            "grid_gap": null,
            "grid_row": null,
            "grid_template_areas": null,
            "grid_template_columns": null,
            "grid_template_rows": null,
            "height": null,
            "justify_content": null,
            "justify_items": null,
            "left": null,
            "margin": null,
            "max_height": null,
            "max_width": null,
            "min_height": null,
            "min_width": null,
            "object_fit": null,
            "object_position": null,
            "order": null,
            "overflow": null,
            "overflow_x": null,
            "overflow_y": null,
            "padding": null,
            "right": null,
            "top": null,
            "visibility": null,
            "width": null
          }
        },
        "c44131e9bda24a5e9d7f9dde499922ab": {
          "model_module": "@jupyter-widgets/controls",
          "model_name": "DescriptionStyleModel",
          "model_module_version": "1.5.0",
          "state": {
            "_model_module": "@jupyter-widgets/controls",
            "_model_module_version": "1.5.0",
            "_model_name": "DescriptionStyleModel",
            "_view_count": null,
            "_view_module": "@jupyter-widgets/base",
            "_view_module_version": "1.2.0",
            "_view_name": "StyleView",
            "description_width": ""
          }
        },
        "18c4c617fd334559bde882b1687514ba": {
          "model_module": "@jupyter-widgets/base",
          "model_name": "LayoutModel",
          "model_module_version": "1.2.0",
          "state": {
            "_model_module": "@jupyter-widgets/base",
            "_model_module_version": "1.2.0",
            "_model_name": "LayoutModel",
            "_view_count": null,
            "_view_module": "@jupyter-widgets/base",
            "_view_module_version": "1.2.0",
            "_view_name": "LayoutView",
            "align_content": null,
            "align_items": null,
            "align_self": null,
            "border": null,
            "bottom": null,
            "display": null,
            "flex": "2",
            "flex_flow": null,
            "grid_area": null,
            "grid_auto_columns": null,
            "grid_auto_flow": null,
            "grid_auto_rows": null,
            "grid_column": null,
            "grid_gap": null,
            "grid_row": null,
            "grid_template_areas": null,
            "grid_template_columns": null,
            "grid_template_rows": null,
            "height": null,
            "justify_content": null,
            "justify_items": null,
            "left": null,
            "margin": null,
            "max_height": null,
            "max_width": null,
            "min_height": null,
            "min_width": null,
            "object_fit": null,
            "object_position": null,
            "order": null,
            "overflow": null,
            "overflow_x": null,
            "overflow_y": null,
            "padding": null,
            "right": null,
            "top": null,
            "visibility": null,
            "width": null
          }
        },
        "d5619cd589ef46ad8eb1cdef4dc91c05": {
          "model_module": "@jupyter-widgets/controls",
          "model_name": "ProgressStyleModel",
          "model_module_version": "1.5.0",
          "state": {
            "_model_module": "@jupyter-widgets/controls",
            "_model_module_version": "1.5.0",
            "_model_name": "ProgressStyleModel",
            "_view_count": null,
            "_view_module": "@jupyter-widgets/base",
            "_view_module_version": "1.2.0",
            "_view_name": "StyleView",
            "bar_color": null,
            "description_width": ""
          }
        },
        "fcab970132234916a509300b73873d5f": {
          "model_module": "@jupyter-widgets/base",
          "model_name": "LayoutModel",
          "model_module_version": "1.2.0",
          "state": {
            "_model_module": "@jupyter-widgets/base",
            "_model_module_version": "1.2.0",
            "_model_name": "LayoutModel",
            "_view_count": null,
            "_view_module": "@jupyter-widgets/base",
            "_view_module_version": "1.2.0",
            "_view_name": "LayoutView",
            "align_content": null,
            "align_items": null,
            "align_self": null,
            "border": null,
            "bottom": null,
            "display": null,
            "flex": null,
            "flex_flow": null,
            "grid_area": null,
            "grid_auto_columns": null,
            "grid_auto_flow": null,
            "grid_auto_rows": null,
            "grid_column": null,
            "grid_gap": null,
            "grid_row": null,
            "grid_template_areas": null,
            "grid_template_columns": null,
            "grid_template_rows": null,
            "height": null,
            "justify_content": null,
            "justify_items": null,
            "left": null,
            "margin": null,
            "max_height": null,
            "max_width": null,
            "min_height": null,
            "min_width": null,
            "object_fit": null,
            "object_position": null,
            "order": null,
            "overflow": null,
            "overflow_x": null,
            "overflow_y": null,
            "padding": null,
            "right": null,
            "top": null,
            "visibility": null,
            "width": null
          }
        },
        "50355d3221cd4ccc807417fb66f4b940": {
          "model_module": "@jupyter-widgets/controls",
          "model_name": "DescriptionStyleModel",
          "model_module_version": "1.5.0",
          "state": {
            "_model_module": "@jupyter-widgets/controls",
            "_model_module_version": "1.5.0",
            "_model_name": "DescriptionStyleModel",
            "_view_count": null,
            "_view_module": "@jupyter-widgets/base",
            "_view_module_version": "1.2.0",
            "_view_name": "StyleView",
            "description_width": ""
          }
        },
        "6a6e4ff4e4a249dfb0348eb2a092aba4": {
          "model_module": "@jupyter-widgets/controls",
          "model_name": "HBoxModel",
          "model_module_version": "1.5.0",
          "state": {
            "_dom_classes": [],
            "_model_module": "@jupyter-widgets/controls",
            "_model_module_version": "1.5.0",
            "_model_name": "HBoxModel",
            "_view_count": null,
            "_view_module": "@jupyter-widgets/controls",
            "_view_module_version": "1.5.0",
            "_view_name": "HBoxView",
            "box_style": "",
            "children": [
              "IPY_MODEL_89758ef3bc714418aba51034a988d8ae",
              "IPY_MODEL_8e404079735145d29cacd58edeecc991",
              "IPY_MODEL_dfffd70fa0d64c8e8f6ef22529f895b0"
            ],
            "layout": "IPY_MODEL_d4ae3295e43e43c3b640c433e2d5b0be"
          }
        },
        "89758ef3bc714418aba51034a988d8ae": {
          "model_module": "@jupyter-widgets/controls",
          "model_name": "HTMLModel",
          "model_module_version": "1.5.0",
          "state": {
            "_dom_classes": [],
            "_model_module": "@jupyter-widgets/controls",
            "_model_module_version": "1.5.0",
            "_model_name": "HTMLModel",
            "_view_count": null,
            "_view_module": "@jupyter-widgets/controls",
            "_view_module_version": "1.5.0",
            "_view_name": "HTMLView",
            "description": "",
            "description_tooltip": null,
            "layout": "IPY_MODEL_04ec6db61c6d47fe9bddca513b1b76c5",
            "placeholder": "​",
            "style": "IPY_MODEL_62d23ce0af564974aabca26ee1b0c618",
            "value": "- MapBatches(EmbedImages): Tasks: 2; Actors: 4 (running=1, restarting=0, pending=3); Queued blocks: 0; Resources: 0.0 CPU, 1.0 GPU, 1.5GB object store; [all objects local]: 100%"
          }
        },
        "8e404079735145d29cacd58edeecc991": {
          "model_module": "@jupyter-widgets/controls",
          "model_name": "FloatProgressModel",
          "model_module_version": "1.5.0",
          "state": {
            "_dom_classes": [],
            "_model_module": "@jupyter-widgets/controls",
            "_model_module_version": "1.5.0",
            "_model_name": "FloatProgressModel",
            "_view_count": null,
            "_view_module": "@jupyter-widgets/controls",
            "_view_module_version": "1.5.0",
            "_view_name": "ProgressView",
            "bar_style": "success",
            "description": "",
            "description_tooltip": null,
            "layout": "IPY_MODEL_05295887247b4c3daa1f1b59bcf3b1b4",
            "max": 1,
            "min": 0,
            "orientation": "horizontal",
            "style": "IPY_MODEL_055bebd08eac4c948e05dffa60cb9569",
            "value": 1
          }
        },
        "dfffd70fa0d64c8e8f6ef22529f895b0": {
          "model_module": "@jupyter-widgets/controls",
          "model_name": "HTMLModel",
          "model_module_version": "1.5.0",
          "state": {
            "_dom_classes": [],
            "_model_module": "@jupyter-widgets/controls",
            "_model_module_version": "1.5.0",
            "_model_name": "HTMLModel",
            "_view_count": null,
            "_view_module": "@jupyter-widgets/controls",
            "_view_module_version": "1.5.0",
            "_view_name": "HTMLView",
            "description": "",
            "description_tooltip": null,
            "layout": "IPY_MODEL_678cbca158694de591f4f2f96fae8e36",
            "placeholder": "​",
            "style": "IPY_MODEL_12d7a7b723f34c9e9480f25e856a81fa",
            "value": " 2.77k/2.77k [02:12&lt;00:00, 26.3 row/s]"
          }
        },
        "d4ae3295e43e43c3b640c433e2d5b0be": {
          "model_module": "@jupyter-widgets/base",
          "model_name": "LayoutModel",
          "model_module_version": "1.2.0",
          "state": {
            "_model_module": "@jupyter-widgets/base",
            "_model_module_version": "1.2.0",
            "_model_name": "LayoutModel",
            "_view_count": null,
            "_view_module": "@jupyter-widgets/base",
            "_view_module_version": "1.2.0",
            "_view_name": "LayoutView",
            "align_content": null,
            "align_items": null,
            "align_self": null,
            "border": null,
            "bottom": null,
            "display": "inline-flex",
            "flex": null,
            "flex_flow": "row wrap",
            "grid_area": null,
            "grid_auto_columns": null,
            "grid_auto_flow": null,
            "grid_auto_rows": null,
            "grid_column": null,
            "grid_gap": null,
            "grid_row": null,
            "grid_template_areas": null,
            "grid_template_columns": null,
            "grid_template_rows": null,
            "height": null,
            "justify_content": null,
            "justify_items": null,
            "left": null,
            "margin": null,
            "max_height": null,
            "max_width": null,
            "min_height": null,
            "min_width": null,
            "object_fit": null,
            "object_position": null,
            "order": null,
            "overflow": null,
            "overflow_x": null,
            "overflow_y": null,
            "padding": null,
            "right": null,
            "top": null,
            "visibility": null,
            "width": "100%"
          }
        },
        "04ec6db61c6d47fe9bddca513b1b76c5": {
          "model_module": "@jupyter-widgets/base",
          "model_name": "LayoutModel",
          "model_module_version": "1.2.0",
          "state": {
            "_model_module": "@jupyter-widgets/base",
            "_model_module_version": "1.2.0",
            "_model_name": "LayoutModel",
            "_view_count": null,
            "_view_module": "@jupyter-widgets/base",
            "_view_module_version": "1.2.0",
            "_view_name": "LayoutView",
            "align_content": null,
            "align_items": null,
            "align_self": null,
            "border": null,
            "bottom": null,
            "display": null,
            "flex": null,
            "flex_flow": null,
            "grid_area": null,
            "grid_auto_columns": null,
            "grid_auto_flow": null,
            "grid_auto_rows": null,
            "grid_column": null,
            "grid_gap": null,
            "grid_row": null,
            "grid_template_areas": null,
            "grid_template_columns": null,
            "grid_template_rows": null,
            "height": null,
            "justify_content": null,
            "justify_items": null,
            "left": null,
            "margin": null,
            "max_height": null,
            "max_width": null,
            "min_height": null,
            "min_width": null,
            "object_fit": null,
            "object_position": null,
            "order": null,
            "overflow": null,
            "overflow_x": null,
            "overflow_y": null,
            "padding": null,
            "right": null,
            "top": null,
            "visibility": null,
            "width": null
          }
        },
        "62d23ce0af564974aabca26ee1b0c618": {
          "model_module": "@jupyter-widgets/controls",
          "model_name": "DescriptionStyleModel",
          "model_module_version": "1.5.0",
          "state": {
            "_model_module": "@jupyter-widgets/controls",
            "_model_module_version": "1.5.0",
            "_model_name": "DescriptionStyleModel",
            "_view_count": null,
            "_view_module": "@jupyter-widgets/base",
            "_view_module_version": "1.2.0",
            "_view_name": "StyleView",
            "description_width": ""
          }
        },
        "05295887247b4c3daa1f1b59bcf3b1b4": {
          "model_module": "@jupyter-widgets/base",
          "model_name": "LayoutModel",
          "model_module_version": "1.2.0",
          "state": {
            "_model_module": "@jupyter-widgets/base",
            "_model_module_version": "1.2.0",
            "_model_name": "LayoutModel",
            "_view_count": null,
            "_view_module": "@jupyter-widgets/base",
            "_view_module_version": "1.2.0",
            "_view_name": "LayoutView",
            "align_content": null,
            "align_items": null,
            "align_self": null,
            "border": null,
            "bottom": null,
            "display": null,
            "flex": "2",
            "flex_flow": null,
            "grid_area": null,
            "grid_auto_columns": null,
            "grid_auto_flow": null,
            "grid_auto_rows": null,
            "grid_column": null,
            "grid_gap": null,
            "grid_row": null,
            "grid_template_areas": null,
            "grid_template_columns": null,
            "grid_template_rows": null,
            "height": null,
            "justify_content": null,
            "justify_items": null,
            "left": null,
            "margin": null,
            "max_height": null,
            "max_width": null,
            "min_height": null,
            "min_width": null,
            "object_fit": null,
            "object_position": null,
            "order": null,
            "overflow": null,
            "overflow_x": null,
            "overflow_y": null,
            "padding": null,
            "right": null,
            "top": null,
            "visibility": null,
            "width": null
          }
        },
        "055bebd08eac4c948e05dffa60cb9569": {
          "model_module": "@jupyter-widgets/controls",
          "model_name": "ProgressStyleModel",
          "model_module_version": "1.5.0",
          "state": {
            "_model_module": "@jupyter-widgets/controls",
            "_model_module_version": "1.5.0",
            "_model_name": "ProgressStyleModel",
            "_view_count": null,
            "_view_module": "@jupyter-widgets/base",
            "_view_module_version": "1.2.0",
            "_view_name": "StyleView",
            "bar_color": null,
            "description_width": ""
          }
        },
        "678cbca158694de591f4f2f96fae8e36": {
          "model_module": "@jupyter-widgets/base",
          "model_name": "LayoutModel",
          "model_module_version": "1.2.0",
          "state": {
            "_model_module": "@jupyter-widgets/base",
            "_model_module_version": "1.2.0",
            "_model_name": "LayoutModel",
            "_view_count": null,
            "_view_module": "@jupyter-widgets/base",
            "_view_module_version": "1.2.0",
            "_view_name": "LayoutView",
            "align_content": null,
            "align_items": null,
            "align_self": null,
            "border": null,
            "bottom": null,
            "display": null,
            "flex": null,
            "flex_flow": null,
            "grid_area": null,
            "grid_auto_columns": null,
            "grid_auto_flow": null,
            "grid_auto_rows": null,
            "grid_column": null,
            "grid_gap": null,
            "grid_row": null,
            "grid_template_areas": null,
            "grid_template_columns": null,
            "grid_template_rows": null,
            "height": null,
            "justify_content": null,
            "justify_items": null,
            "left": null,
            "margin": null,
            "max_height": null,
            "max_width": null,
            "min_height": null,
            "min_width": null,
            "object_fit": null,
            "object_position": null,
            "order": null,
            "overflow": null,
            "overflow_x": null,
            "overflow_y": null,
            "padding": null,
            "right": null,
            "top": null,
            "visibility": null,
            "width": null
          }
        },
        "12d7a7b723f34c9e9480f25e856a81fa": {
          "model_module": "@jupyter-widgets/controls",
          "model_name": "DescriptionStyleModel",
          "model_module_version": "1.5.0",
          "state": {
            "_model_module": "@jupyter-widgets/controls",
            "_model_module_version": "1.5.0",
            "_model_name": "DescriptionStyleModel",
            "_view_count": null,
            "_view_module": "@jupyter-widgets/base",
            "_view_module_version": "1.2.0",
            "_view_name": "StyleView",
            "description_width": ""
          }
        },
        "4c90faf2d2514661bac6c6927a599b89": {
          "model_module": "@jupyter-widgets/controls",
          "model_name": "HBoxModel",
          "model_module_version": "1.5.0",
          "state": {
            "_dom_classes": [],
            "_model_module": "@jupyter-widgets/controls",
            "_model_module_version": "1.5.0",
            "_model_name": "HBoxModel",
            "_view_count": null,
            "_view_module": "@jupyter-widgets/controls",
            "_view_module_version": "1.5.0",
            "_view_name": "HBoxView",
            "box_style": "",
            "children": [
              "IPY_MODEL_8fa60d95b07348e29a13414711b58f13",
              "IPY_MODEL_04b8f0832b9a43ad84759e43932d39a1",
              "IPY_MODEL_681e69b5629e442a8d8ccb20a4ac9995"
            ],
            "layout": "IPY_MODEL_915e01f6d08f4857b4e3bf33ac9a4bd2"
          }
        },
        "8fa60d95b07348e29a13414711b58f13": {
          "model_module": "@jupyter-widgets/controls",
          "model_name": "HTMLModel",
          "model_module_version": "1.5.0",
          "state": {
            "_dom_classes": [],
            "_model_module": "@jupyter-widgets/controls",
            "_model_module_version": "1.5.0",
            "_model_name": "HTMLModel",
            "_view_count": null,
            "_view_module": "@jupyter-widgets/controls",
            "_view_module_version": "1.5.0",
            "_view_name": "HTMLView",
            "description": "",
            "description_tooltip": null,
            "layout": "IPY_MODEL_af248d504ca046ceaf8feed5bcb119d9",
            "placeholder": "​",
            "style": "IPY_MODEL_e63e6ce78fc745f9ac0f6a6aca760f99",
            "value": "- MapBatches(drop_columns): Tasks: 0; Actors: 0; Queued blocks: 33; Resources: 0.0 CPU, 0.0B object store: 100%"
          }
        },
        "04b8f0832b9a43ad84759e43932d39a1": {
          "model_module": "@jupyter-widgets/controls",
          "model_name": "FloatProgressModel",
          "model_module_version": "1.5.0",
          "state": {
            "_dom_classes": [],
            "_model_module": "@jupyter-widgets/controls",
            "_model_module_version": "1.5.0",
            "_model_name": "FloatProgressModel",
            "_view_count": null,
            "_view_module": "@jupyter-widgets/controls",
            "_view_module_version": "1.5.0",
            "_view_name": "ProgressView",
            "bar_style": "success",
            "description": "",
            "description_tooltip": null,
            "layout": "IPY_MODEL_7443a0c6644843ce98630753fcb01c76",
            "max": 1,
            "min": 0,
            "orientation": "horizontal",
            "style": "IPY_MODEL_d7c91116a40d402d9a362156be247bf7",
            "value": 1
          }
        },
        "681e69b5629e442a8d8ccb20a4ac9995": {
          "model_module": "@jupyter-widgets/controls",
          "model_name": "HTMLModel",
          "model_module_version": "1.5.0",
          "state": {
            "_dom_classes": [],
            "_model_module": "@jupyter-widgets/controls",
            "_model_module_version": "1.5.0",
            "_model_name": "HTMLModel",
            "_view_count": null,
            "_view_module": "@jupyter-widgets/controls",
            "_view_module_version": "1.5.0",
            "_view_name": "HTMLView",
            "description": "",
            "description_tooltip": null,
            "layout": "IPY_MODEL_07be11ca5e394c5d9b100a6083d5b663",
            "placeholder": "​",
            "style": "IPY_MODEL_dee14e0feebb4beebca8ee8205795ac6",
            "value": " 84.0/84.0 [02:12&lt;00:00, 2.77 row/s]"
          }
        },
        "915e01f6d08f4857b4e3bf33ac9a4bd2": {
          "model_module": "@jupyter-widgets/base",
          "model_name": "LayoutModel",
          "model_module_version": "1.2.0",
          "state": {
            "_model_module": "@jupyter-widgets/base",
            "_model_module_version": "1.2.0",
            "_model_name": "LayoutModel",
            "_view_count": null,
            "_view_module": "@jupyter-widgets/base",
            "_view_module_version": "1.2.0",
            "_view_name": "LayoutView",
            "align_content": null,
            "align_items": null,
            "align_self": null,
            "border": null,
            "bottom": null,
            "display": "inline-flex",
            "flex": null,
            "flex_flow": "row wrap",
            "grid_area": null,
            "grid_auto_columns": null,
            "grid_auto_flow": null,
            "grid_auto_rows": null,
            "grid_column": null,
            "grid_gap": null,
            "grid_row": null,
            "grid_template_areas": null,
            "grid_template_columns": null,
            "grid_template_rows": null,
            "height": null,
            "justify_content": null,
            "justify_items": null,
            "left": null,
            "margin": null,
            "max_height": null,
            "max_width": null,
            "min_height": null,
            "min_width": null,
            "object_fit": null,
            "object_position": null,
            "order": null,
            "overflow": null,
            "overflow_x": null,
            "overflow_y": null,
            "padding": null,
            "right": null,
            "top": null,
            "visibility": null,
            "width": "100%"
          }
        },
        "af248d504ca046ceaf8feed5bcb119d9": {
          "model_module": "@jupyter-widgets/base",
          "model_name": "LayoutModel",
          "model_module_version": "1.2.0",
          "state": {
            "_model_module": "@jupyter-widgets/base",
            "_model_module_version": "1.2.0",
            "_model_name": "LayoutModel",
            "_view_count": null,
            "_view_module": "@jupyter-widgets/base",
            "_view_module_version": "1.2.0",
            "_view_name": "LayoutView",
            "align_content": null,
            "align_items": null,
            "align_self": null,
            "border": null,
            "bottom": null,
            "display": null,
            "flex": null,
            "flex_flow": null,
            "grid_area": null,
            "grid_auto_columns": null,
            "grid_auto_flow": null,
            "grid_auto_rows": null,
            "grid_column": null,
            "grid_gap": null,
            "grid_row": null,
            "grid_template_areas": null,
            "grid_template_columns": null,
            "grid_template_rows": null,
            "height": null,
            "justify_content": null,
            "justify_items": null,
            "left": null,
            "margin": null,
            "max_height": null,
            "max_width": null,
            "min_height": null,
            "min_width": null,
            "object_fit": null,
            "object_position": null,
            "order": null,
            "overflow": null,
            "overflow_x": null,
            "overflow_y": null,
            "padding": null,
            "right": null,
            "top": null,
            "visibility": null,
            "width": null
          }
        },
        "e63e6ce78fc745f9ac0f6a6aca760f99": {
          "model_module": "@jupyter-widgets/controls",
          "model_name": "DescriptionStyleModel",
          "model_module_version": "1.5.0",
          "state": {
            "_model_module": "@jupyter-widgets/controls",
            "_model_module_version": "1.5.0",
            "_model_name": "DescriptionStyleModel",
            "_view_count": null,
            "_view_module": "@jupyter-widgets/base",
            "_view_module_version": "1.2.0",
            "_view_name": "StyleView",
            "description_width": ""
          }
        },
        "7443a0c6644843ce98630753fcb01c76": {
          "model_module": "@jupyter-widgets/base",
          "model_name": "LayoutModel",
          "model_module_version": "1.2.0",
          "state": {
            "_model_module": "@jupyter-widgets/base",
            "_model_module_version": "1.2.0",
            "_model_name": "LayoutModel",
            "_view_count": null,
            "_view_module": "@jupyter-widgets/base",
            "_view_module_version": "1.2.0",
            "_view_name": "LayoutView",
            "align_content": null,
            "align_items": null,
            "align_self": null,
            "border": null,
            "bottom": null,
            "display": null,
            "flex": "2",
            "flex_flow": null,
            "grid_area": null,
            "grid_auto_columns": null,
            "grid_auto_flow": null,
            "grid_auto_rows": null,
            "grid_column": null,
            "grid_gap": null,
            "grid_row": null,
            "grid_template_areas": null,
            "grid_template_columns": null,
            "grid_template_rows": null,
            "height": null,
            "justify_content": null,
            "justify_items": null,
            "left": null,
            "margin": null,
            "max_height": null,
            "max_width": null,
            "min_height": null,
            "min_width": null,
            "object_fit": null,
            "object_position": null,
            "order": null,
            "overflow": null,
            "overflow_x": null,
            "overflow_y": null,
            "padding": null,
            "right": null,
            "top": null,
            "visibility": null,
            "width": null
          }
        },
        "d7c91116a40d402d9a362156be247bf7": {
          "model_module": "@jupyter-widgets/controls",
          "model_name": "ProgressStyleModel",
          "model_module_version": "1.5.0",
          "state": {
            "_model_module": "@jupyter-widgets/controls",
            "_model_module_version": "1.5.0",
            "_model_name": "ProgressStyleModel",
            "_view_count": null,
            "_view_module": "@jupyter-widgets/base",
            "_view_module_version": "1.2.0",
            "_view_name": "StyleView",
            "bar_color": null,
            "description_width": ""
          }
        },
        "07be11ca5e394c5d9b100a6083d5b663": {
          "model_module": "@jupyter-widgets/base",
          "model_name": "LayoutModel",
          "model_module_version": "1.2.0",
          "state": {
            "_model_module": "@jupyter-widgets/base",
            "_model_module_version": "1.2.0",
            "_model_name": "LayoutModel",
            "_view_count": null,
            "_view_module": "@jupyter-widgets/base",
            "_view_module_version": "1.2.0",
            "_view_name": "LayoutView",
            "align_content": null,
            "align_items": null,
            "align_self": null,
            "border": null,
            "bottom": null,
            "display": null,
            "flex": null,
            "flex_flow": null,
            "grid_area": null,
            "grid_auto_columns": null,
            "grid_auto_flow": null,
            "grid_auto_rows": null,
            "grid_column": null,
            "grid_gap": null,
            "grid_row": null,
            "grid_template_areas": null,
            "grid_template_columns": null,
            "grid_template_rows": null,
            "height": null,
            "justify_content": null,
            "justify_items": null,
            "left": null,
            "margin": null,
            "max_height": null,
            "max_width": null,
            "min_height": null,
            "min_width": null,
            "object_fit": null,
            "object_position": null,
            "order": null,
            "overflow": null,
            "overflow_x": null,
            "overflow_y": null,
            "padding": null,
            "right": null,
            "top": null,
            "visibility": null,
            "width": null
          }
        },
        "dee14e0feebb4beebca8ee8205795ac6": {
          "model_module": "@jupyter-widgets/controls",
          "model_name": "DescriptionStyleModel",
          "model_module_version": "1.5.0",
          "state": {
            "_model_module": "@jupyter-widgets/controls",
            "_model_module_version": "1.5.0",
            "_model_name": "DescriptionStyleModel",
            "_view_count": null,
            "_view_module": "@jupyter-widgets/base",
            "_view_module_version": "1.2.0",
            "_view_name": "StyleView",
            "description_width": ""
          }
        },
        "3954d81d1bcd400188631e31410f1f2b": {
          "model_module": "@jupyter-widgets/controls",
          "model_name": "HBoxModel",
          "model_module_version": "1.5.0",
          "state": {
            "_dom_classes": [],
            "_model_module": "@jupyter-widgets/controls",
            "_model_module_version": "1.5.0",
            "_model_name": "HBoxModel",
            "_view_count": null,
            "_view_module": "@jupyter-widgets/controls",
            "_view_module_version": "1.5.0",
            "_view_name": "HBoxView",
            "box_style": "",
            "children": [
              "IPY_MODEL_5216a9404eb64f798cb5d005b0a3662b",
              "IPY_MODEL_37abac53854945c5845b5b6d45ea7fbb",
              "IPY_MODEL_101d760122e74d0b8bb941e74511cb6f"
            ],
            "layout": "IPY_MODEL_4901337eadb243d1b59dfe97c3b7ddd7"
          }
        },
        "5216a9404eb64f798cb5d005b0a3662b": {
          "model_module": "@jupyter-widgets/controls",
          "model_name": "HTMLModel",
          "model_module_version": "1.5.0",
          "state": {
            "_dom_classes": [],
            "_model_module": "@jupyter-widgets/controls",
            "_model_module_version": "1.5.0",
            "_model_name": "HTMLModel",
            "_view_count": null,
            "_view_module": "@jupyter-widgets/controls",
            "_view_module_version": "1.5.0",
            "_view_name": "HTMLView",
            "description": "",
            "description_tooltip": null,
            "layout": "IPY_MODEL_92a0f492fc044e5aa614cb1b603ac734",
            "placeholder": "​",
            "style": "IPY_MODEL_9c2399a6edf34b17be56ccfd377fec2e",
            "value": "- limit=1: Tasks: 0; Actors: 0; Queued blocks: 0; Resources: 0.0 CPU, 0.0B object store: 100%"
          }
        },
        "37abac53854945c5845b5b6d45ea7fbb": {
          "model_module": "@jupyter-widgets/controls",
          "model_name": "FloatProgressModel",
          "model_module_version": "1.5.0",
          "state": {
            "_dom_classes": [],
            "_model_module": "@jupyter-widgets/controls",
            "_model_module_version": "1.5.0",
            "_model_name": "FloatProgressModel",
            "_view_count": null,
            "_view_module": "@jupyter-widgets/controls",
            "_view_module_version": "1.5.0",
            "_view_name": "ProgressView",
            "bar_style": "success",
            "description": "",
            "description_tooltip": null,
            "layout": "IPY_MODEL_2e8018ff4abf409ab7d8d2b09f1bc283",
            "max": 1,
            "min": 0,
            "orientation": "horizontal",
            "style": "IPY_MODEL_ac1f26ebd19546c08ff621353d03e4a6",
            "value": 1
          }
        },
        "101d760122e74d0b8bb941e74511cb6f": {
          "model_module": "@jupyter-widgets/controls",
          "model_name": "HTMLModel",
          "model_module_version": "1.5.0",
          "state": {
            "_dom_classes": [],
            "_model_module": "@jupyter-widgets/controls",
            "_model_module_version": "1.5.0",
            "_model_name": "HTMLModel",
            "_view_count": null,
            "_view_module": "@jupyter-widgets/controls",
            "_view_module_version": "1.5.0",
            "_view_name": "HTMLView",
            "description": "",
            "description_tooltip": null,
            "layout": "IPY_MODEL_4ebe173968e74587b0514dc867ebcc6f",
            "placeholder": "​",
            "style": "IPY_MODEL_7151ebf3c99b4885aae0f06ec3bb1f92",
            "value": " 1.00/1.00 [02:11&lt;00:00, 30.4s/ row]"
          }
        },
        "4901337eadb243d1b59dfe97c3b7ddd7": {
          "model_module": "@jupyter-widgets/base",
          "model_name": "LayoutModel",
          "model_module_version": "1.2.0",
          "state": {
            "_model_module": "@jupyter-widgets/base",
            "_model_module_version": "1.2.0",
            "_model_name": "LayoutModel",
            "_view_count": null,
            "_view_module": "@jupyter-widgets/base",
            "_view_module_version": "1.2.0",
            "_view_name": "LayoutView",
            "align_content": null,
            "align_items": null,
            "align_self": null,
            "border": null,
            "bottom": null,
            "display": "inline-flex",
            "flex": null,
            "flex_flow": "row wrap",
            "grid_area": null,
            "grid_auto_columns": null,
            "grid_auto_flow": null,
            "grid_auto_rows": null,
            "grid_column": null,
            "grid_gap": null,
            "grid_row": null,
            "grid_template_areas": null,
            "grid_template_columns": null,
            "grid_template_rows": null,
            "height": null,
            "justify_content": null,
            "justify_items": null,
            "left": null,
            "margin": null,
            "max_height": null,
            "max_width": null,
            "min_height": null,
            "min_width": null,
            "object_fit": null,
            "object_position": null,
            "order": null,
            "overflow": null,
            "overflow_x": null,
            "overflow_y": null,
            "padding": null,
            "right": null,
            "top": null,
            "visibility": null,
            "width": "100%"
          }
        },
        "92a0f492fc044e5aa614cb1b603ac734": {
          "model_module": "@jupyter-widgets/base",
          "model_name": "LayoutModel",
          "model_module_version": "1.2.0",
          "state": {
            "_model_module": "@jupyter-widgets/base",
            "_model_module_version": "1.2.0",
            "_model_name": "LayoutModel",
            "_view_count": null,
            "_view_module": "@jupyter-widgets/base",
            "_view_module_version": "1.2.0",
            "_view_name": "LayoutView",
            "align_content": null,
            "align_items": null,
            "align_self": null,
            "border": null,
            "bottom": null,
            "display": null,
            "flex": null,
            "flex_flow": null,
            "grid_area": null,
            "grid_auto_columns": null,
            "grid_auto_flow": null,
            "grid_auto_rows": null,
            "grid_column": null,
            "grid_gap": null,
            "grid_row": null,
            "grid_template_areas": null,
            "grid_template_columns": null,
            "grid_template_rows": null,
            "height": null,
            "justify_content": null,
            "justify_items": null,
            "left": null,
            "margin": null,
            "max_height": null,
            "max_width": null,
            "min_height": null,
            "min_width": null,
            "object_fit": null,
            "object_position": null,
            "order": null,
            "overflow": null,
            "overflow_x": null,
            "overflow_y": null,
            "padding": null,
            "right": null,
            "top": null,
            "visibility": null,
            "width": null
          }
        },
        "9c2399a6edf34b17be56ccfd377fec2e": {
          "model_module": "@jupyter-widgets/controls",
          "model_name": "DescriptionStyleModel",
          "model_module_version": "1.5.0",
          "state": {
            "_model_module": "@jupyter-widgets/controls",
            "_model_module_version": "1.5.0",
            "_model_name": "DescriptionStyleModel",
            "_view_count": null,
            "_view_module": "@jupyter-widgets/base",
            "_view_module_version": "1.2.0",
            "_view_name": "StyleView",
            "description_width": ""
          }
        },
        "2e8018ff4abf409ab7d8d2b09f1bc283": {
          "model_module": "@jupyter-widgets/base",
          "model_name": "LayoutModel",
          "model_module_version": "1.2.0",
          "state": {
            "_model_module": "@jupyter-widgets/base",
            "_model_module_version": "1.2.0",
            "_model_name": "LayoutModel",
            "_view_count": null,
            "_view_module": "@jupyter-widgets/base",
            "_view_module_version": "1.2.0",
            "_view_name": "LayoutView",
            "align_content": null,
            "align_items": null,
            "align_self": null,
            "border": null,
            "bottom": null,
            "display": null,
            "flex": "2",
            "flex_flow": null,
            "grid_area": null,
            "grid_auto_columns": null,
            "grid_auto_flow": null,
            "grid_auto_rows": null,
            "grid_column": null,
            "grid_gap": null,
            "grid_row": null,
            "grid_template_areas": null,
            "grid_template_columns": null,
            "grid_template_rows": null,
            "height": null,
            "justify_content": null,
            "justify_items": null,
            "left": null,
            "margin": null,
            "max_height": null,
            "max_width": null,
            "min_height": null,
            "min_width": null,
            "object_fit": null,
            "object_position": null,
            "order": null,
            "overflow": null,
            "overflow_x": null,
            "overflow_y": null,
            "padding": null,
            "right": null,
            "top": null,
            "visibility": null,
            "width": null
          }
        },
        "ac1f26ebd19546c08ff621353d03e4a6": {
          "model_module": "@jupyter-widgets/controls",
          "model_name": "ProgressStyleModel",
          "model_module_version": "1.5.0",
          "state": {
            "_model_module": "@jupyter-widgets/controls",
            "_model_module_version": "1.5.0",
            "_model_name": "ProgressStyleModel",
            "_view_count": null,
            "_view_module": "@jupyter-widgets/base",
            "_view_module_version": "1.2.0",
            "_view_name": "StyleView",
            "bar_color": null,
            "description_width": ""
          }
        },
        "4ebe173968e74587b0514dc867ebcc6f": {
          "model_module": "@jupyter-widgets/base",
          "model_name": "LayoutModel",
          "model_module_version": "1.2.0",
          "state": {
            "_model_module": "@jupyter-widgets/base",
            "_model_module_version": "1.2.0",
            "_model_name": "LayoutModel",
            "_view_count": null,
            "_view_module": "@jupyter-widgets/base",
            "_view_module_version": "1.2.0",
            "_view_name": "LayoutView",
            "align_content": null,
            "align_items": null,
            "align_self": null,
            "border": null,
            "bottom": null,
            "display": null,
            "flex": null,
            "flex_flow": null,
            "grid_area": null,
            "grid_auto_columns": null,
            "grid_auto_flow": null,
            "grid_auto_rows": null,
            "grid_column": null,
            "grid_gap": null,
            "grid_row": null,
            "grid_template_areas": null,
            "grid_template_columns": null,
            "grid_template_rows": null,
            "height": null,
            "justify_content": null,
            "justify_items": null,
            "left": null,
            "margin": null,
            "max_height": null,
            "max_width": null,
            "min_height": null,
            "min_width": null,
            "object_fit": null,
            "object_position": null,
            "order": null,
            "overflow": null,
            "overflow_x": null,
            "overflow_y": null,
            "padding": null,
            "right": null,
            "top": null,
            "visibility": null,
            "width": null
          }
        },
        "7151ebf3c99b4885aae0f06ec3bb1f92": {
          "model_module": "@jupyter-widgets/controls",
          "model_name": "DescriptionStyleModel",
          "model_module_version": "1.5.0",
          "state": {
            "_model_module": "@jupyter-widgets/controls",
            "_model_module_version": "1.5.0",
            "_model_name": "DescriptionStyleModel",
            "_view_count": null,
            "_view_module": "@jupyter-widgets/base",
            "_view_module_version": "1.2.0",
            "_view_name": "StyleView",
            "description_width": ""
          }
        }
      }
    }
  },
  "nbformat": 4,
  "nbformat_minor": 5
}